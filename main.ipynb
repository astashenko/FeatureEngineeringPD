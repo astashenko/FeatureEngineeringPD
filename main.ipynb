{
 "cells": [
  {
   "cell_type": "markdown",
   "metadata": {},
   "source": [
    "#### Порядок сбора данных для тестирования модели PD-12\n",
    "\n",
    "запускать каждый в отдельности  \n",
    "функционал запуска через main не реализован"
   ]
  },
  {
   "cell_type": "markdown",
   "metadata": {},
   "source": [
    "1. Чтение данных \n",
    "\n",
    "```bash  \n",
    "src/data/create_pickle.ipynb\n",
    "``` \n",
    "\n",
    "2. Подготовка данных target_class\n",
    "\n",
    "```bash  \n",
    "src/preprocessing/processing_target.ipynb\n",
    "``` \n",
    "\n",
    "3. Формирование и запись вспомогательной таблицы pre_contracts: \"все договоры ИНН на день принятия решения\"\n",
    "\n",
    "```bash  \n",
    "src/preprocessing/contracts_of_inn.ipynb\n",
    "``` \n",
    "\n",
    "4. Расчет фичи okved  - ОКВЭД\n",
    "\n",
    "```bash  \n",
    "src/features/11okved.ipynb\n",
    "``` \n",
    "\n",
    "5. Определение списка договоров на каждую дату decision_date и ИНН контрагента\n",
    "\n",
    "```bash  \n",
    "src/features/12contracts.ipynb\n",
    "``` \n",
    "\n",
    "6. Расчет параметра OVERDUE_FLG наличия просрочки по договору на определенную дату\n",
    "\n",
    "```bash  \n",
    "src/features/13contract_ovd.ipynb\n",
    "``` \n",
    "\n",
    "7. Расчет показателя max_leas_ovd_pay_dt - дата последней оплаченной просроченной задолженности по лизинговым платежам\n",
    "\n",
    "```bash  \n",
    "src/features/14leas_ovd_pay_dt.ipynb\n",
    "``` \n",
    "\n",
    "8. Объединение всех фичей в одну таблицу \n",
    "\n",
    "```bash  \n",
    "src/features/21features_combine.ipynb\n",
    "``` "
   ]
  },
  {
   "cell_type": "markdown",
   "metadata": {},
   "source": []
  }
 ],
 "metadata": {
  "interpreter": {
   "hash": "ad2bdc8ecc057115af97d19610ffacc2b4e99fae6737bb82f5d7fb13d2f2c186"
  },
  "kernelspec": {
   "display_name": "Python 3.7.13 ('base')",
   "language": "python",
   "name": "python3"
  },
  "language_info": {
   "codemirror_mode": {
    "name": "ipython",
    "version": 3
   },
   "file_extension": ".py",
   "mimetype": "text/x-python",
   "name": "python",
   "nbconvert_exporter": "python",
   "pygments_lexer": "ipython3",
   "version": "3.7.13"
  }
 },
 "nbformat": 4,
 "nbformat_minor": 4
}
