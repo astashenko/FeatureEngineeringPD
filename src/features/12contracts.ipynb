{
 "cells": [
  {
   "attachments": {},
   "cell_type": "markdown",
   "metadata": {},
   "source": [
    "##### Определение списка договоров на каждую дату decision_date и ИНН контрагента"
   ]
  },
  {
   "cell_type": "code",
   "execution_count": 1,
   "metadata": {},
   "outputs": [],
   "source": [
    "pre = '../../' # путь до главной директории проекта\n",
    "\n",
    "%run ../init.ipynb #подгрузить нужные библиотеки"
   ]
  },
  {
   "cell_type": "code",
   "execution_count": 2,
   "metadata": {},
   "outputs": [],
   "source": [
    "# сюда таблицы служебные будем кидать, для отчетов\n",
    "name = pre + \"data/interm/auxilary/feature_contract_cnt.xlsx\"\n",
    "writer = ExcelWriter(name)"
   ]
  },
  {
   "cell_type": "code",
   "execution_count": 3,
   "metadata": {},
   "outputs": [
    {
     "name": "stdout",
     "output_type": "stream",
     "text": [
      "127968\n"
     ]
    }
   ],
   "source": [
    "name = pre + \"data/interm/target_data.pkl\"\n",
    "target_data = pd.read_pickle(name, compression={'method':'zip'})\n",
    "\n",
    "print(len(target_data))\n",
    "# target_data.head(1)"
   ]
  },
  {
   "cell_type": "code",
   "execution_count": 4,
   "metadata": {},
   "outputs": [
    {
     "name": "stdout",
     "output_type": "stream",
     "text": [
      "268031\n"
     ]
    }
   ],
   "source": [
    "name = pre + \"data/interm/external_pkl/portfolio.pkl\"\n",
    "portfolio = pd.read_pickle(name, compression={'method':'zip'})\n",
    "\n",
    "print(len(portfolio))\n",
    "# portfolio.head(1)"
   ]
  },
  {
   "cell_type": "code",
   "execution_count": 5,
   "metadata": {},
   "outputs": [],
   "source": [
    "portfolio['open_auxilary'] = portfolio['REHIRING_DT'].combine_first(portfolio['OPEN_DT'])\n",
    "\n",
    "merge = pd.merge(target_data, portfolio, how='inner', left_on='ИНН контрагента', right_on='INN')\n",
    "\n",
    "mask_open = (merge['Дата принятия решения по сделке']>merge['open_auxilary'])\n",
    "\n",
    "# timedelta(days=1) - для тестирования, так как этих данных еще не было на prod, в рабочей версии делать не надо \n",
    "mask_leasing = (merge['Дата принятия решения по сделке']>merge['LEASE_DATE']+timedelta(days=1))\n",
    "\n",
    "# без тех, что закончились более 5 лет назад\n",
    "mask_closed = (merge['Дата принятия решения по сделке']<=merge['CLOSE_DT']+timedelta(days=1825)) # 365*5\n",
    "\n",
    "last_contracts = merge[mask_open&mask_closed&mask_leasing].copy()\n",
    "\n",
    "# last_contracts.head(1)"
   ]
  },
  {
   "cell_type": "code",
   "execution_count": 6,
   "metadata": {},
   "outputs": [],
   "source": [
    "keep_col = ['CONTRACT_KEY', 'CONTRACT_APP_KEY', 'CONTRACT_NUM', 'ИНН контрагента', 'decision_date', 'CLOSE_DT', 'open_auxilary', 'LEASE_DATE']\n",
    "\n",
    "target_ctr = pd.merge(target_data, last_contracts[keep_col], how='left', on=['ИНН контрагента', 'decision_date'], suffixes=['', 'lst'])\n",
    "\n",
    "# target_ctr.head(1)"
   ]
  },
  {
   "cell_type": "code",
   "execution_count": 7,
   "metadata": {},
   "outputs": [],
   "source": [
    "target_ctr.to_pickle(pre+\"data/interm/lst_contracts.pkl\", compression={'method': 'zip'})"
   ]
  },
  {
   "cell_type": "code",
   "execution_count": 8,
   "metadata": {},
   "outputs": [],
   "source": [
    "# сохраняем tmp таблицы\n",
    "if len(writer.sheets):\n",
    "    writer.save() "
   ]
  }
 ],
 "metadata": {
  "interpreter": {
   "hash": "ad2bdc8ecc057115af97d19610ffacc2b4e99fae6737bb82f5d7fb13d2f2c186"
  },
  "kernelspec": {
   "display_name": "Python 3.7.13 ('base')",
   "language": "python",
   "name": "python3"
  },
  "language_info": {
   "codemirror_mode": {
    "name": "ipython",
    "version": 3
   },
   "file_extension": ".py",
   "mimetype": "text/x-python",
   "name": "python",
   "nbconvert_exporter": "python",
   "pygments_lexer": "ipython3",
   "version": "3.7.13"
  },
  "orig_nbformat": 4
 },
 "nbformat": 4,
 "nbformat_minor": 2
}
