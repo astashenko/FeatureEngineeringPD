{
 "cells": [
  {
   "attachments": {},
   "cell_type": "markdown",
   "metadata": {},
   "source": [
    "##### Расчет показателя max_leas_ovd_pay_dt - дата последней оплаченной просроченной задолженности по лизинговым платежам"
   ]
  },
  {
   "cell_type": "code",
   "execution_count": 1,
   "metadata": {},
   "outputs": [],
   "source": [
    "pre = '../../' # путь до главной директории проекта\n",
    "\n",
    "%run ../init.ipynb #подгрузить нужные библиотеки\n",
    "%run ../../params.ipynb #параметры как логин пароль к БИ, параметры расчёта ( в нашем случае их нет)"
   ]
  },
  {
   "cell_type": "code",
   "execution_count": 2,
   "metadata": {},
   "outputs": [],
   "source": [
    "# сюда таблицы служебные будем кидать, для отчетов\n",
    "name = pre + \"data/interm/auxilary/dsnc_ovd_pay_days.xlsx\"\n",
    "writer = ExcelWriter(name)"
   ]
  },
  {
   "cell_type": "code",
   "execution_count": 3,
   "metadata": {},
   "outputs": [
    {
     "name": "stdout",
     "output_type": "stream",
     "text": [
      "127968\n"
     ]
    }
   ],
   "source": [
    "name = pre + \"data/interm/target_data.pkl\"\n",
    "target_data = pd.read_pickle(name, compression={'method':'zip'})\n",
    "\n",
    "print(len(target_data))\n",
    "# target_data.head(1)"
   ]
  },
  {
   "cell_type": "markdown",
   "metadata": {},
   "source": [
    "условие PBD.PAY_DT_ORIG < PRE_CON.DECISION_DATE - 1 вместо PBD.PAY_DT_ORIG < PRE_CON.DECISION_DATE добавлено с целью совпадения с витриной ЦАЛ, поскольку туда данные заносятся данные с опозданием на день в основном"
   ]
  },
  {
   "cell_type": "code",
   "execution_count": 4,
   "metadata": {},
   "outputs": [
    {
     "name": "stdout",
     "output_type": "stream",
     "text": [
      "Размер считанных данных leas_ovd_pay_dt - (101634, 7)\n"
     ]
    }
   ],
   "source": [
    "def read_max_leas_ovd_pay_dt():\n",
    "    sql_query = \"\"\" \n",
    "                     SELECT DISTINCT PRE.INN,\n",
    "                                PRE.DECISION_DATE as DECISION_DATE,\n",
    "                                PDD.SNAPSHOT_DT  as DAILY_SNAPSHOT_DT,\n",
    "                                PDD.CONTRACT_KEY as CONTRACT_KEY,\n",
    "                                PDD.CONTRACT_APP_KEY as CONTRACT_APP_KEY,\n",
    "                                MAX(FDD.MAX_PAY_DT_ORIG) OVER (PARTITION BY PDD.CONTRACT_KEY, PDD.CONTRACT_APP_KEY, PRE.DECISION_DATE) AS MAX_LEAS_OVD_PAY_DT,\n",
    "                                sysdate as \tINSERT_DT\n",
    "                FROM (SELECT DISTINCT SNAPSHOT_DT, CONTRACT_KEY, CONTRACT_APP_KEY, CBC_DESC, PAYMENT_NUM, PLAN_PAY_DT_ORIG, PLAN_AMT, PAYMENT_ITEM_KEY, CURRENCY_KEY, OFF_SCHEDULE\n",
    "                            FROM DM.DM_DETAILS_DAILY\n",
    "                            WHERE PAYMENT_ITEM_KEY in (9, 1000)\n",
    "                    ) PDD\n",
    "                INNER JOIN\n",
    "                ( SELECT * FROM PRE_CONTRACTS\n",
    "                ) PRE\n",
    "                ON PDD.CONTRACT_KEY      = PRE.CONTRACT_KEY\n",
    "                AND PDD.PLAN_PAY_DT_ORIG < PRE.DECISION_DATE - 1\n",
    "                LEFT JOIN (SELECT DISTINCT CONTRACT_KEY, CONTRACT_APP_KEY, DECISION_DATE, CBC_DESC, PAYMENT_NUM, PLAN_PAY_DT_ORIG, PLAN_AMT ,\n",
    "                            MAX(PAY_DT_ORIG) OVER (PARTITION BY CONTRACT_KEY, CONTRACT_APP_KEY, DECISION_DATE,  CBC_DESC, PAYMENT_NUM, PLAN_PAY_DT_ORIG, PLAN_AMT, PAYMENT_ITEM_KEY, CURRENCY_KEY, OFF_SCHEDULE)         AS MAX_PAY_DT_ORIG ,\n",
    "                            SUM(NVL(FACT_PAY_AMT,0)) OVER (PARTITION BY CONTRACT_KEY, CONTRACT_APP_KEY, DECISION_DATE, CBC_DESC, PAYMENT_NUM, PLAN_PAY_DT_ORIG, PLAN_AMT, PAYMENT_ITEM_KEY, CURRENCY_KEY, OFF_SCHEDULE) AS FACT_PAY_AMT ,\n",
    "                            PAYMENT_ITEM_KEY, CURRENCY_KEY, OFF_SCHEDULE\n",
    "                          FROM \n",
    "                            (SELECT PBD.CONTRACT_KEY, PBD.CONTRACT_APP_KEY, DECISION_DATE, CBC_DESC, PAYMENT_NUM, PLAN_PAY_DT_ORIG, PLAN_AMT , PAY_DT_ORIG,  FACT_PAY_AMT, PAYMENT_ITEM_KEY, CURRENCY_KEY, OFF_SCHEDULE\n",
    "                            FROM DM.DM_DETAILS_DAILY PBD\n",
    "                          INNER JOIN\n",
    "                            ( SELECT * FROM PRE_CONTRACTS \n",
    "                            ) PRE_CON\n",
    "                          ON PBD.CONTRACT_KEY = PRE_CON.CONTRACT_KEY\n",
    "                          AND PBD.PAY_DT_ORIG < PRE_CON.DECISION_DATE - 1\n",
    "                          WHERE PAYMENT_ITEM_KEY  IN (9, 1000)\n",
    "                            AND NVL(FACT_PAY_AMT,0) >= 0\n",
    "                            AND NVL(PLAN_AMT, 0)     > 0\n",
    "                            AND PRE_PAY              > 0\n",
    "                            )) FDD \n",
    "                                ON   PDD.CONTRACT_KEY = FDD.CONTRACT_KEY\n",
    "                                AND PDD.CONTRACT_APP_KEY = FDD.CONTRACT_APP_KEY\n",
    "                                AND PDD.CBC_DESC = FDD.CBC_DESC\n",
    "                                AND PDD.PAYMENT_NUM = FDD.PAYMENT_NUM\n",
    "                                AND PDD.PLAN_PAY_DT_ORIG = FDD.PLAN_PAY_DT_ORIG\n",
    "                                AND PDD.PLAN_AMT = FDD.PLAN_AMT\n",
    "                                AND PDD.PAYMENT_ITEM_KEY = FDD.PAYMENT_ITEM_KEY\n",
    "                                AND PDD.CURRENCY_KEY = FDD.CURRENCY_KEY\n",
    "                                AND PDD.OFF_SCHEDULE = FDD.OFF_SCHEDULE\n",
    "                                AND PRE.DECISION_DATE = FDD.DECISION_DATE\n",
    "                  WHERE (PDD.PLAN_AMT - FDD.FACT_PAY_AMT) <= 0 AND FDD.MAX_PAY_DT_ORIG > PDD.PLAN_PAY_DT_ORIG\n",
    "                \"\"\"\n",
    "                \n",
    "    df = read_from_oracle(sql_query, title='leas_ovd_pay_dt')\n",
    "    \n",
    "    return df\n",
    "\n",
    "leas_ovd_pay_dt = read_max_leas_ovd_pay_dt()\n",
    "# leas_ovd_pay_dt.head(1)"
   ]
  },
  {
   "cell_type": "code",
   "execution_count": 5,
   "metadata": {},
   "outputs": [],
   "source": [
    "leas_ovd_pay_dt.rename(columns={'MAX_LEAS_OVD_PAY_DT':'max_leas_ovd_pay_dt', 'DECISION_DATE':'decision_date'}, inplace=True)\n",
    "leas_ovd_pay_dt['CONTRACT_KEY'] = leas_ovd_pay_dt['CONTRACT_KEY'].astype(str)"
   ]
  },
  {
   "cell_type": "code",
   "execution_count": 6,
   "metadata": {},
   "outputs": [
    {
     "data": {
      "text/plain": [
       "INN                            object\n",
       "decision_date          datetime64[ns]\n",
       "DAILY_SNAPSHOT_DT      datetime64[ns]\n",
       "CONTRACT_KEY                   object\n",
       "CONTRACT_APP_KEY                int64\n",
       "max_leas_ovd_pay_dt    datetime64[ns]\n",
       "INSERT_DT              datetime64[ns]\n",
       "dtype: object"
      ]
     },
     "execution_count": 6,
     "metadata": {},
     "output_type": "execute_result"
    }
   ],
   "source": [
    "leas_ovd_pay_dt.dtypes"
   ]
  },
  {
   "cell_type": "code",
   "execution_count": 7,
   "metadata": {},
   "outputs": [],
   "source": [
    "l = len(leas_ovd_pay_dt[leas_ovd_pay_dt['max_leas_ovd_pay_dt'] > leas_ovd_pay_dt['decision_date']])\n",
    "\n",
    "assert l == 0"
   ]
  },
  {
   "cell_type": "code",
   "execution_count": 8,
   "metadata": {},
   "outputs": [],
   "source": [
    "leas_ovd_pay_dt.to_pickle(pre+\"data/interm/leas_ovd_pay_dt.pkl\", compression={'method': 'zip'})\n",
    "# leas_ovd_pay_dt.head(2)"
   ]
  },
  {
   "cell_type": "code",
   "execution_count": 9,
   "metadata": {},
   "outputs": [],
   "source": [
    "# сохраняем tmp таблицы\n",
    "if len(writer.sheets):\n",
    "    writer.save() "
   ]
  },
  {
   "cell_type": "code",
   "execution_count": null,
   "metadata": {},
   "outputs": [],
   "source": []
  }
 ],
 "metadata": {
  "interpreter": {
   "hash": "ad2bdc8ecc057115af97d19610ffacc2b4e99fae6737bb82f5d7fb13d2f2c186"
  },
  "kernelspec": {
   "display_name": "Python 3.7.13 ('base')",
   "language": "python",
   "name": "python3"
  },
  "language_info": {
   "codemirror_mode": {
    "name": "ipython",
    "version": 3
   },
   "file_extension": ".py",
   "mimetype": "text/x-python",
   "name": "python",
   "nbconvert_exporter": "python",
   "pygments_lexer": "ipython3",
   "version": "3.7.13"
  },
  "orig_nbformat": 4
 },
 "nbformat": 4,
 "nbformat_minor": 2
}
