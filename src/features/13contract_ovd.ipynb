{
 "cells": [
  {
   "attachments": {},
   "cell_type": "markdown",
   "metadata": {},
   "source": [
    "##### Расчет параметра OVERDUE_FLG наличия просрочки по договору на определенную дату для раcчета фичи contract_ovd_cnt - количество просроченных договоров на дату принятия решения"
   ]
  },
  {
   "cell_type": "code",
   "execution_count": 1,
   "metadata": {},
   "outputs": [],
   "source": [
    "pre = '../../' # путь до главной директории проекта\n",
    "\n",
    "%run ../init.ipynb #подгрузить нужные библиотеки\n",
    "%run ../../params.ipynb #параметры как логин пароль к БИ, параметры расчёта ( в нашем случае их нет)"
   ]
  },
  {
   "cell_type": "code",
   "execution_count": 2,
   "metadata": {},
   "outputs": [],
   "source": [
    "# сюда таблицы служебные будем кидать, для отчетов\n",
    "name = pre + \"data/interm/auxilary/feature_contract_ovd_cnt.xlsx\"\n",
    "writer = ExcelWriter(name)"
   ]
  },
  {
   "cell_type": "code",
   "execution_count": 3,
   "metadata": {},
   "outputs": [
    {
     "name": "stdout",
     "output_type": "stream",
     "text": [
      "127968\n"
     ]
    }
   ],
   "source": [
    "name = pre + \"data/interm/target_data.pkl\"\n",
    "target_data = pd.read_pickle(name, compression={'method':'zip'})\n",
    "\n",
    "print(len(target_data))\n",
    "# target_data.head(1)"
   ]
  },
  {
   "cell_type": "code",
   "execution_count": 4,
   "metadata": {},
   "outputs": [
    {
     "name": "stdout",
     "output_type": "stream",
     "text": [
      "Размер считанных данных overdue_contracts - (207598, 5)\n"
     ]
    }
   ],
   "source": [
    "def read_overdue_contracts():\n",
    "    sql_query = \"\"\" \n",
    "                   SELECT DISTINCT CONTRS.INN, CONTRS.DECISION_DATE, CONTRS.CONTRACT_KEY, CONTRS.CONTRACT_APP_KEY ,\n",
    "                    CASE WHEN OVD.CONTRACT_KEY    IS NOT NULL  AND OVD.CONTRACT_APP_KEY IS NOT NULL  THEN 1  ELSE 0  END AS OVERDUE_FLG\n",
    "                  FROM PRE_CONTRACTS CONTRS\n",
    "                  LEFT JOIN\n",
    "                  ( SELECT DISTINCT PDD.SNAPSHOT_DT, PDD.CONTRACT_KEY, PDD.CONTRACT_APP_KEY, PDD.CBC_DESC, PDD.PAYMENT_NUM, PDD.PLAN_PAY_DT_ORIG, PDD.PLAN_AMT, PDD.PAYMENT_ITEM_KEY, PDD.CURRENCY_KEY, PDD.OFF_SCHEDULE, \n",
    "                              FDD.MAX_PAY_DT_ORIG, \n",
    "                              FDD.FACT_PAY_AMT\n",
    "                            FROM DM.DM_DETAILS_DAILY PDD\n",
    "                          LEFT JOIN\n",
    "                            (SELECT DISTINCT PBD.CONTRACT_KEY, PBD.CONTRACT_APP_KEY, CBC_DESC, PAYMENT_NUM, PLAN_PAY_DT_ORIG, PLAN_AMT, PAYMENT_ITEM_KEY, CURRENCY_KEY, OFF_SCHEDULE,\n",
    "                              MAX(PBD.PAY_DT_ORIG) OVER (PARTITION BY PBD.CONTRACT_KEY, PBD.CONTRACT_APP_KEY, CBC_DESC, PAYMENT_NUM, PLAN_PAY_DT_ORIG, PLAN_AMT, PAYMENT_ITEM_KEY, CURRENCY_KEY, OFF_SCHEDULE) AS MAX_PAY_DT_ORIG, \n",
    "                              SUM(NVL(PBD.FACT_PAY_AMT,0)) OVER (PARTITION BY PBD.CONTRACT_KEY, PBD.CONTRACT_APP_KEY, CBC_DESC, PAYMENT_NUM, PLAN_PAY_DT_ORIG, PLAN_AMT, PAYMENT_ITEM_KEY, CURRENCY_KEY, OFF_SCHEDULE) AS FACT_PAY_AMT\n",
    "                            FROM\n",
    "                              (SELECT CONTRACT_KEY, CONTRACT_APP_KEY, CBC_DESC, PAYMENT_NUM, PLAN_PAY_DT_ORIG, PLAN_AMT, PAY_DT_ORIG, FACT_PAY_AMT, PAYMENT_ITEM_KEY, CURRENCY_KEY, OFF_SCHEDULE\n",
    "                              FROM DM.DM_DETAILS_DAILY\n",
    "                              WHERE PAYMENT_ITEM_KEY  IN (9, 1000)\n",
    "                              AND NVL(PLAN_AMT, 0)     > 0\n",
    "                              AND PRE_PAY              > 0\n",
    "                              ) PBD\n",
    "                            INNER JOIN\n",
    "                              ( SELECT * FROM PRE_CONTRACTS\n",
    "                              ) PRE_CON\n",
    "                            ON PBD.CONTRACT_KEY = PRE_CON.CONTRACT_KEY\n",
    "                            AND PBD.CONTRACT_APP_KEY = PRE_CON.CONTRACT_APP_KEY\n",
    "                            AND PBD.PAY_DT_ORIG < PRE_CON.DECISION_DATE - 1\n",
    "                            ) FDD\n",
    "                          ON PDD.CONTRACT_KEY                             = FDD.CONTRACT_KEY\n",
    "                          AND PDD.CONTRACT_APP_KEY                          = FDD.CONTRACT_APP_KEY\n",
    "                          AND PDD.CBC_DESC                                  = FDD.CBC_DESC\n",
    "                          AND PDD.PAYMENT_NUM                               = FDD.PAYMENT_NUM\n",
    "                          AND PDD.PLAN_PAY_DT_ORIG                          = FDD.PLAN_PAY_DT_ORIG\n",
    "                          AND PDD.PLAN_AMT                                  = FDD.PLAN_AMT\n",
    "                          AND PDD.PAYMENT_ITEM_KEY                          = FDD.PAYMENT_ITEM_KEY\n",
    "                          AND PDD.CURRENCY_KEY                              = FDD.CURRENCY_KEY\n",
    "                          AND PDD.OFF_SCHEDULE                              = FDD.OFF_SCHEDULE\n",
    "                        WHERE  PDD.PAYMENT_ITEM_KEY  IN (9, 1000)\n",
    "                              AND NVL(PDD.PLAN_AMT, 0)     > 0\n",
    "                              AND PDD.PRE_PAY              > 0 \n",
    "                        AND (PDD.PLAN_AMT - NVL(FDD.FACT_PAY_AMT, 0) >0\n",
    "                        OR  (PDD.PLAN_PAY_DT_ORIG < NVL(FDD.MAX_PAY_DT_ORIG,to_date ('01.01.2400', 'dd.mm.yyyy'))\n",
    "                        AND (EXTRACT (MONTH FROM PDD.PLAN_PAY_DT_ORIG) <> EXTRACT (MONTH FROM NVL(FDD.MAX_PAY_DT_ORIG,to_date ('01.01.2400', 'dd.mm.yyyy')))\n",
    "                        OR EXTRACT (YEAR FROM PDD.PLAN_PAY_DT_ORIG)      <> EXTRACT (YEAR FROM NVL(FDD.MAX_PAY_DT_ORIG,to_date ('01.01.2400', 'dd.mm.yyyy'))))))\n",
    "                      ) OVD\n",
    "                    ON OVD.CONTRACT_KEY = CONTRS.CONTRACT_KEY\n",
    "                    AND OVD.CONTRACT_APP_KEY = CONTRS.CONTRACT_APP_KEY\n",
    "                    AND OVD.PLAN_PAY_DT_ORIG < CONTRS.DECISION_DATE - 1\n",
    "                \"\"\"\n",
    "                \n",
    "    df = read_from_oracle(sql_query, title='overdue_contracts')\n",
    "    \n",
    "    return df\n",
    "\n",
    "overdue_contracts = read_overdue_contracts()\n",
    "# overdue_contracts.head(1)"
   ]
  },
  {
   "cell_type": "code",
   "execution_count": 5,
   "metadata": {},
   "outputs": [],
   "source": [
    "overdue_contracts.rename(columns={'DECISION_DATE':'decision_date'}, inplace = True)\n",
    "overdue_contracts['CONTRACT_KEY'] = overdue_contracts['CONTRACT_KEY'].astype(str)"
   ]
  },
  {
   "cell_type": "code",
   "execution_count": 6,
   "metadata": {},
   "outputs": [
    {
     "data": {
      "text/plain": [
       "INN                         object\n",
       "decision_date       datetime64[ns]\n",
       "CONTRACT_KEY                object\n",
       "CONTRACT_APP_KEY             int64\n",
       "OVERDUE_FLG                  int64\n",
       "dtype: object"
      ]
     },
     "execution_count": 6,
     "metadata": {},
     "output_type": "execute_result"
    }
   ],
   "source": [
    "overdue_contracts.dtypes"
   ]
  },
  {
   "cell_type": "code",
   "execution_count": 7,
   "metadata": {},
   "outputs": [],
   "source": [
    "overdue_contracts.to_pickle(pre+\"data/interm/overdue_contracts.pkl\", compression={'method': 'zip'})"
   ]
  },
  {
   "cell_type": "code",
   "execution_count": 8,
   "metadata": {},
   "outputs": [],
   "source": [
    "# сохраняем tmp таблицы\n",
    "if len(writer.sheets):\n",
    "    writer.save() "
   ]
  },
  {
   "cell_type": "code",
   "execution_count": null,
   "metadata": {},
   "outputs": [],
   "source": []
  }
 ],
 "metadata": {
  "interpreter": {
   "hash": "ad2bdc8ecc057115af97d19610ffacc2b4e99fae6737bb82f5d7fb13d2f2c186"
  },
  "kernelspec": {
   "display_name": "Python 3.7.13 ('base')",
   "language": "python",
   "name": "python3"
  },
  "language_info": {
   "codemirror_mode": {
    "name": "ipython",
    "version": 3
   },
   "file_extension": ".py",
   "mimetype": "text/x-python",
   "name": "python",
   "nbconvert_exporter": "python",
   "pygments_lexer": "ipython3",
   "version": "3.7.13"
  },
  "orig_nbformat": 4
 },
 "nbformat": 4,
 "nbformat_minor": 2
}
