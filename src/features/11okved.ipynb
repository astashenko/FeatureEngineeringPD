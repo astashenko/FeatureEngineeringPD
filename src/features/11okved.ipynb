{
 "cells": [
  {
   "attachments": {},
   "cell_type": "markdown",
   "metadata": {},
   "source": [
    "##### Расчет фичи okved  - ОКВЭД"
   ]
  },
  {
   "cell_type": "code",
   "execution_count": 1,
   "metadata": {},
   "outputs": [],
   "source": [
    "pre = '../../' # путь до главной директории проекта\n",
    "\n",
    "%run ../init.ipynb #подгрузить нужные библиотеки"
   ]
  },
  {
   "cell_type": "code",
   "execution_count": 2,
   "metadata": {},
   "outputs": [],
   "source": [
    "# сюда таблицы служебные будем кидать, для отчетов\n",
    "name = pre + \"data/interm/auxilary/feature_okved.xlsx\"\n",
    "writer = ExcelWriter(name)"
   ]
  },
  {
   "cell_type": "code",
   "execution_count": 3,
   "metadata": {},
   "outputs": [
    {
     "name": "stdout",
     "output_type": "stream",
     "text": [
      "127968\n"
     ]
    }
   ],
   "source": [
    "name = pre + \"data/interm/target_data.pkl\"\n",
    "target_data = pd.read_pickle(name, compression={'method':'zip'})\n",
    "\n",
    "print(len(target_data))\n",
    "# target_data.head(1)"
   ]
  },
  {
   "cell_type": "code",
   "execution_count": 4,
   "metadata": {},
   "outputs": [
    {
     "name": "stdout",
     "output_type": "stream",
     "text": [
      "\u001b[91m Ошибка. Количество дубликатов 138\u001b[00m\n"
     ]
    },
    {
     "data": {
      "text/html": [
       "<th style=\"text-align:center\"><td style=\"vertical-align:top\"><h2></h2><table style=\"display: inline-block\" border=\"1\" class=\"dataframe\">\n",
       "  <thead>\n",
       "    <tr style=\"text-align: right;\">\n",
       "      <th></th>\n",
       "      <th>INN</th>\n",
       "      <th>CLIENT_KEY</th>\n",
       "      <th>OKVED_CODE</th>\n",
       "      <th>row_nums</th>\n",
       "    </tr>\n",
       "  </thead>\n",
       "  <tbody>\n",
       "    <tr>\n",
       "      <th>0</th>\n",
       "      <td>7706613770</td>\n",
       "      <td>146</td>\n",
       "      <td>09.10</td>\n",
       "      <td>2</td>\n",
       "    </tr>\n",
       "    <tr>\n",
       "      <th>1</th>\n",
       "      <td>7706613770</td>\n",
       "      <td>22353</td>\n",
       "      <td>28.1</td>\n",
       "      <td>2</td>\n",
       "    </tr>\n",
       "    <tr>\n",
       "      <th>2</th>\n",
       "      <td>7810000499</td>\n",
       "      <td>163</td>\n",
       "      <td>49.4</td>\n",
       "      <td>2</td>\n",
       "    </tr>\n",
       "    <tr>\n",
       "      <th>3</th>\n",
       "      <td>7810000499</td>\n",
       "      <td>108783</td>\n",
       "      <td>49.4</td>\n",
       "      <td>2</td>\n",
       "    </tr>\n",
       "    <tr>\n",
       "      <th>4</th>\n",
       "      <td>7714072839</td>\n",
       "      <td>188</td>\n",
       "      <td>60.10</td>\n",
       "      <td>3</td>\n",
       "    </tr>\n",
       "  </tbody>\n",
       "</table style=\"display: inline-block\"></td></th>"
      ]
     },
     "metadata": {},
     "output_type": "display_data"
    },
    {
     "name": "stdout",
     "output_type": "stream",
     "text": [
      "152523\n"
     ]
    }
   ],
   "source": [
    "name = pre + \"data/interm/external_pkl/okved.pkl\"\n",
    "okved = pd.read_pickle(name, compression={'method':'zip'})\n",
    "\n",
    "num, duplicates = identify_duplicates(okved, 'INN')\n",
    "Check_dupl(num, duplicates)\n",
    "\n",
    "#  произвольным образом убираем, если несколько записей\n",
    "okved.drop_duplicates(subset='INN', inplace=True)\n",
    "\n",
    "print(len(okved))\n",
    "# okved.head(1)"
   ]
  },
  {
   "cell_type": "code",
   "execution_count": 5,
   "metadata": {},
   "outputs": [],
   "source": [
    "target_okved = pd.merge(target_data, okved[['INN', 'OKVED_CODE']], how='left', left_on='ИНН контрагента', right_on='INN')\n",
    "Check_length(len(target_okved), len(target_data))\n",
    "\n",
    "target_okved.rename(columns={'OKVED_CODE':'okved_code'}, inplace=True)\n",
    "# target_okved.head()"
   ]
  },
  {
   "cell_type": "code",
   "execution_count": 6,
   "metadata": {},
   "outputs": [
    {
     "data": {
      "text/plain": [
       "array(['45.11.2', '45.1', '43.21', ..., '52,1', '29.11.9', '36.1'],\n",
       "      dtype=object)"
      ]
     },
     "execution_count": 6,
     "metadata": {},
     "output_type": "execute_result"
    }
   ],
   "source": [
    "lst =  target_okved['okved_code'].unique()\n",
    "lst"
   ]
  },
  {
   "cell_type": "code",
   "execution_count": 7,
   "metadata": {},
   "outputs": [],
   "source": [
    "pattern_for_int = r'(\\d+)\\.?'\n",
    "\n",
    "target_okved['okved'] = target_okved['okved_code'].str.extract(pattern_for_int, expand=False)\n"
   ]
  },
  {
   "cell_type": "code",
   "execution_count": 8,
   "metadata": {},
   "outputs": [
    {
     "data": {
      "text/plain": [
       "array(['45', '43', '46', '29', '49', '62', '33', '68', '20', '16', nan,\n",
       "       '96', '25', '28', '71', '77', '41', '81', '47', '01', '23', '38',\n",
       "       '13', '52', '02', '56', '18', '10', '69', '08', '42', '95', '80',\n",
       "       '22', '09', '70', '14', '59', '36', '86', '32', '31', '53', '74',\n",
       "       '27', '72', '64', '61', '30', '73', '63', '82', '11', '19', '26',\n",
       "       '06', '85', '75', '35', '79', '17', '24', '37', '93', '55', '78',\n",
       "       '94', '03', '39', '66', '12', '58', '90', '21', '05', '88', '15',\n",
       "       '87', '51', '84', '50', '60', '97', '07', '65', '92', '91', '5244',\n",
       "       '7310'], dtype=object)"
      ]
     },
     "execution_count": 8,
     "metadata": {},
     "output_type": "execute_result"
    }
   ],
   "source": [
    "lst =  target_okved['okved'].unique()\n",
    "lst"
   ]
  },
  {
   "cell_type": "code",
   "execution_count": 9,
   "metadata": {},
   "outputs": [],
   "source": [
    "mask = (target_okved['okved'].str.len()>2)\n",
    "target_okved.loc[mask, 'okved'] = np.NAN"
   ]
  },
  {
   "cell_type": "code",
   "execution_count": 10,
   "metadata": {},
   "outputs": [
    {
     "data": {
      "text/plain": [
       "array(['45', '43', '46', '29', '49', '62', '33', '68', '20', '16', nan,\n",
       "       '96', '25', '28', '71', '77', '41', '81', '47', '01', '23', '38',\n",
       "       '13', '52', '02', '56', '18', '10', '69', '08', '42', '95', '80',\n",
       "       '22', '09', '70', '14', '59', '36', '86', '32', '31', '53', '74',\n",
       "       '27', '72', '64', '61', '30', '73', '63', '82', '11', '19', '26',\n",
       "       '06', '85', '75', '35', '79', '17', '24', '37', '93', '55', '78',\n",
       "       '94', '03', '39', '66', '12', '58', '90', '21', '05', '88', '15',\n",
       "       '87', '51', '84', '50', '60', '97', '07', '65', '92', '91'],\n",
       "      dtype=object)"
      ]
     },
     "execution_count": 10,
     "metadata": {},
     "output_type": "execute_result"
    }
   ],
   "source": [
    "lst =  target_okved['okved'].unique()\n",
    "lst"
   ]
  },
  {
   "cell_type": "code",
   "execution_count": 11,
   "metadata": {},
   "outputs": [],
   "source": [
    "keep_col = ['PL', 'okved']\n",
    "target_okved[keep_col].to_pickle(pre+\"data/interm/feature_okved.pkl\", compression={'method': 'zip'})"
   ]
  },
  {
   "cell_type": "code",
   "execution_count": 12,
   "metadata": {},
   "outputs": [],
   "source": [
    "# сохраняем tmp таблицы\n",
    "if len(writer.sheets):\n",
    "    writer.save() "
   ]
  }
 ],
 "metadata": {
  "interpreter": {
   "hash": "ad2bdc8ecc057115af97d19610ffacc2b4e99fae6737bb82f5d7fb13d2f2c186"
  },
  "kernelspec": {
   "display_name": "Python 3.7.13 ('base')",
   "language": "python",
   "name": "python3"
  },
  "language_info": {
   "codemirror_mode": {
    "name": "ipython",
    "version": 3
   },
   "file_extension": ".py",
   "mimetype": "text/x-python",
   "name": "python",
   "nbconvert_exporter": "python",
   "pygments_lexer": "ipython3",
   "version": "3.7.13"
  },
  "orig_nbformat": 4
 },
 "nbformat": 4,
 "nbformat_minor": 2
}
