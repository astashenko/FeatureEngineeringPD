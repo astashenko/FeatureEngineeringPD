{
 "cells": [
  {
   "attachments": {},
   "cell_type": "markdown",
   "metadata": {},
   "source": [
    "##### Объединение всех фичей в одну таблицу"
   ]
  },
  {
   "cell_type": "code",
   "execution_count": 1,
   "metadata": {},
   "outputs": [],
   "source": [
    "pre = '../../' # путь до главной директории проекта\n",
    "%run ../init.ipynb #подгрузить нужные библиотеки"
   ]
  },
  {
   "cell_type": "code",
   "execution_count": 2,
   "metadata": {},
   "outputs": [],
   "source": [
    "# сюда таблицы служебные будем кидать, для отчетов\n",
    "name = pre + \"data/interm/auxilary/feature_combine.xlsx\"\n",
    "writer = ExcelWriter(name)"
   ]
  },
  {
   "cell_type": "code",
   "execution_count": 3,
   "metadata": {},
   "outputs": [
    {
     "name": "stdout",
     "output_type": "stream",
     "text": [
      "127968\n"
     ]
    }
   ],
   "source": [
    "name = pre + \"data/interm/target_data.pkl\"\n",
    "target_data = pd.read_pickle(name, compression={'method':'zip'})\n",
    "\n",
    "print(len(target_data))\n",
    "# target_data.head(1)"
   ]
  },
  {
   "cell_type": "code",
   "execution_count": 4,
   "metadata": {},
   "outputs": [
    {
     "name": "stdout",
     "output_type": "stream",
     "text": [
      "279643\n"
     ]
    }
   ],
   "source": [
    "# список договоров\n",
    "\n",
    "name = pre + \"data/interm/lst_contracts.pkl\"\n",
    "lst_contracts = pd.read_pickle(name, compression={'method':'zip'})\n",
    "\n",
    "print(len(lst_contracts))\n",
    "# lst_contracts.head(1)"
   ]
  },
  {
   "cell_type": "code",
   "execution_count": 5,
   "metadata": {},
   "outputs": [
    {
     "name": "stdout",
     "output_type": "stream",
     "text": [
      "127968\n"
     ]
    }
   ],
   "source": [
    "# фича okved  - ОКВЭД\n",
    "\n",
    "name = pre + \"data/interm/feature_okved.pkl\"\n",
    "target_okved = pd.read_pickle(name, compression={'method':'zip'})\n",
    "\n",
    "num, duplicates = identify_duplicates(target_okved, 'PL')\n",
    "Check_dupl(num, duplicates)\n",
    "\n",
    "print(len(target_okved))\n",
    "# target_okved.head(1)"
   ]
  },
  {
   "cell_type": "code",
   "execution_count": 6,
   "metadata": {},
   "outputs": [
    {
     "name": "stdout",
     "output_type": "stream",
     "text": [
      "207598\n"
     ]
    }
   ],
   "source": [
    "#  наличия просрочки по договору на определенную дату для раcчета фичи contract_ovd_cnt\n",
    "\n",
    "name = pre + \"data/interm/overdue_contracts.pkl\"\n",
    "overdue_contracts = pd.read_pickle(name, compression={'method':'zip'})\n",
    "\n",
    "print(len(overdue_contracts))\n",
    "# overdue_contracts.head(1)"
   ]
  },
  {
   "cell_type": "code",
   "execution_count": 7,
   "metadata": {},
   "outputs": [
    {
     "name": "stdout",
     "output_type": "stream",
     "text": [
      "101634\n"
     ]
    }
   ],
   "source": [
    "# показатель max_leas_ovd_pay_dt - дата последней оплаченной просроченной задолженности по лизинговым платежам\n",
    "\n",
    "name = pre + \"data/interm/leas_ovd_pay_dt.pkl\"\n",
    "leas_ovd_pay_dt = pd.read_pickle(name, compression={'method':'zip'})\n",
    "\n",
    "print(len(leas_ovd_pay_dt))\n",
    "# leas_ovd_pay_dt.head(1)"
   ]
  },
  {
   "cell_type": "code",
   "execution_count": 8,
   "metadata": {},
   "outputs": [],
   "source": [
    "keep_col = ['ИНН контрагента', 'decision_date', 'CONTRACT_KEY', 'CONTRACT_APP_KEY', 'CONTRACT_NUM', 'CLOSE_DT',\t'open_auxilary', 'LEASE_DATE']\n",
    "target_contr = pd.merge(target_data, lst_contracts[keep_col], how='left', on=['ИНН контрагента', 'decision_date'])\n",
    "\n",
    "keep_col = ['decision_date', 'CONTRACT_KEY', 'OVERDUE_FLG']\n",
    "target_contr_over = pd.merge(target_contr, overdue_contracts[keep_col], how='left', on=['CONTRACT_KEY', 'decision_date'])\n",
    "\n",
    "keep_col = ['decision_date', 'CONTRACT_KEY', 'max_leas_ovd_pay_dt']\n",
    "target_param = pd.merge(target_contr_over, leas_ovd_pay_dt[keep_col], how='left', on=['CONTRACT_KEY', 'decision_date'])\n",
    "# target_param.head(1)"
   ]
  },
  {
   "cell_type": "code",
   "execution_count": 9,
   "metadata": {},
   "outputs": [],
   "source": [
    "def summary(x):\n",
    "    tmp = x[x['OVERDUE_FLG']==1]\n",
    "    result = {\n",
    "        'contract_cnt': x['CONTRACT_NUM'].nunique(),\n",
    "        'max_leas_ovd_pay_dt': x['max_leas_ovd_pay_dt'].max(),\n",
    "        'contract_ovd_cnt':  tmp['CONTRACT_NUM'].nunique()\n",
    "    }\n",
    "    return pd.Series(result)"
   ]
  },
  {
   "cell_type": "code",
   "execution_count": 10,
   "metadata": {},
   "outputs": [],
   "source": [
    "# слишком долго\n",
    "# features = target_param.groupby(['PL']).apply(summary)\n",
    "# features.head(1)"
   ]
  },
  {
   "cell_type": "code",
   "execution_count": 11,
   "metadata": {},
   "outputs": [],
   "source": [
    "df_ovd_pay = target_param.groupby(['PL']).agg({'CONTRACT_NUM':'nunique', 'max_leas_ovd_pay_dt':'max'}).reset_index()\n",
    "\n",
    "df_ovd_pay.rename(columns={'CONTRACT_NUM':'contract_cnt'}, inplace=True)"
   ]
  },
  {
   "cell_type": "code",
   "execution_count": 12,
   "metadata": {},
   "outputs": [],
   "source": [
    "# agg работает намного быстрее\n",
    "\n",
    "# без тех, что закончились более 6 месяцев назад\n",
    "mask_closed = (target_param['Дата принятия решения по сделке']<=target_param['CLOSE_DT']+timedelta(days=180)) # 180 полгода\n",
    "target_6 = target_param[mask_closed]\n",
    "df_cnt_6 = target_6.groupby(['PL']).agg({'CONTRACT_NUM':'nunique'}).reset_index()\n",
    "df_cnt_6.rename(columns={'CONTRACT_NUM':'ctr_count_6m'}, inplace=True)\n",
    "\n",
    "df_ovd_pay = target_param.groupby(['PL']).agg({'CONTRACT_NUM':'nunique', 'max_leas_ovd_pay_dt':'max'}).reset_index()\n",
    "df_ovd_pay.rename(columns={'CONTRACT_NUM':'contract_cnt'}, inplace=True)\n",
    "\n",
    "target_overdue_flg = target_param[target_param['OVERDUE_FLG']==1]\n",
    "df_ovd = target_overdue_flg.groupby(['PL']).agg({'CONTRACT_NUM':'nunique'}).reset_index()\n",
    "df_ovd.rename(columns={'CONTRACT_NUM':'contract_ovd_cnt'}, inplace=True)"
   ]
  },
  {
   "cell_type": "code",
   "execution_count": 13,
   "metadata": {},
   "outputs": [],
   "source": [
    "df = pd.merge(target_data, target_okved, how='left', on='PL')\n",
    "df = pd.merge(df, df_cnt_6, how='left', on='PL')\n",
    "df = pd.merge(df, df_ovd_pay, how='left', on='PL')\n",
    "target_features= pd.merge(df, df_ovd, how='left', on='PL')\n",
    "\n",
    "Check_length(len(target_data), len(target_features))\n",
    "\n",
    "target_features['dsnc_ovd_pay_days'] = (pd.to_datetime(target_features['decision_date']) \\\n",
    "                            - pd.to_datetime(target_features['max_leas_ovd_pay_dt'])).dt.days\n",
    "\n",
    "target_features['contract_ovd_cnt'] = target_features['contract_ovd_cnt'].fillna(0)\n",
    "target_features['contract_cnt'] = target_features['contract_cnt'].fillna(0)\n",
    "target_features['ctr_count_6m'] = target_features['ctr_count_6m'].fillna(0)\n",
    "\n",
    "for col in ['contract_ovd_cnt', 'contract_cnt', 'ctr_count_6m']:\n",
    "    target_features[col] = target_features[col].astype(int)\n",
    "    \n",
    "# target_features.head(3)"
   ]
  },
  {
   "cell_type": "code",
   "execution_count": 14,
   "metadata": {},
   "outputs": [
    {
     "name": "stdout",
     "output_type": "stream",
     "text": [
      "127968\n"
     ]
    },
    {
     "data": {
      "text/plain": [
       "PL                                         object\n",
       "Номер сделки                               object\n",
       "Номер договора (кратко)                    object\n",
       "ИНН контрагента                            object\n",
       "Продукт                                    object\n",
       "Дата принятия решения по сделке    datetime64[ns]\n",
       "decision_date                      datetime64[ns]\n",
       "Метка кред дефолта                          int64\n",
       "okved                                      object\n",
       "ctr_count_6m                                int32\n",
       "contract_cnt                                int32\n",
       "max_leas_ovd_pay_dt                datetime64[ns]\n",
       "contract_ovd_cnt                            int32\n",
       "dsnc_ovd_pay_days                         float64\n",
       "dtype: object"
      ]
     },
     "execution_count": 14,
     "metadata": {},
     "output_type": "execute_result"
    }
   ],
   "source": [
    "print(len(target_features))\n",
    "target_features.dtypes"
   ]
  },
  {
   "cell_type": "code",
   "execution_count": 15,
   "metadata": {},
   "outputs": [
    {
     "data": {
      "text/html": [
       "<div>\n",
       "<style scoped>\n",
       "    .dataframe tbody tr th:only-of-type {\n",
       "        vertical-align: middle;\n",
       "    }\n",
       "\n",
       "    .dataframe tbody tr th {\n",
       "        vertical-align: top;\n",
       "    }\n",
       "\n",
       "    .dataframe thead th {\n",
       "        text-align: right;\n",
       "    }\n",
       "</style>\n",
       "<table border=\"1\" class=\"dataframe\">\n",
       "  <thead>\n",
       "    <tr style=\"text-align: right;\">\n",
       "      <th></th>\n",
       "      <th>Метка кред дефолта</th>\n",
       "      <th>ctr_count_6m</th>\n",
       "      <th>contract_cnt</th>\n",
       "      <th>contract_ovd_cnt</th>\n",
       "      <th>dsnc_ovd_pay_days</th>\n",
       "    </tr>\n",
       "  </thead>\n",
       "  <tbody>\n",
       "    <tr>\n",
       "      <th>count</th>\n",
       "      <td>127968.000000</td>\n",
       "      <td>127968.000000</td>\n",
       "      <td>127968.000000</td>\n",
       "      <td>127968.000000</td>\n",
       "      <td>34115.000000</td>\n",
       "    </tr>\n",
       "    <tr>\n",
       "      <th>mean</th>\n",
       "      <td>0.037830</td>\n",
       "      <td>1.180334</td>\n",
       "      <td>1.622484</td>\n",
       "      <td>0.270247</td>\n",
       "      <td>229.835087</td>\n",
       "    </tr>\n",
       "    <tr>\n",
       "      <th>std</th>\n",
       "      <td>0.190785</td>\n",
       "      <td>3.020038</td>\n",
       "      <td>4.318072</td>\n",
       "      <td>1.279713</td>\n",
       "      <td>317.085769</td>\n",
       "    </tr>\n",
       "    <tr>\n",
       "      <th>min</th>\n",
       "      <td>0.000000</td>\n",
       "      <td>0.000000</td>\n",
       "      <td>0.000000</td>\n",
       "      <td>0.000000</td>\n",
       "      <td>2.000000</td>\n",
       "    </tr>\n",
       "    <tr>\n",
       "      <th>25%</th>\n",
       "      <td>0.000000</td>\n",
       "      <td>0.000000</td>\n",
       "      <td>0.000000</td>\n",
       "      <td>0.000000</td>\n",
       "      <td>29.000000</td>\n",
       "    </tr>\n",
       "    <tr>\n",
       "      <th>50%</th>\n",
       "      <td>0.000000</td>\n",
       "      <td>0.000000</td>\n",
       "      <td>0.000000</td>\n",
       "      <td>0.000000</td>\n",
       "      <td>98.000000</td>\n",
       "    </tr>\n",
       "    <tr>\n",
       "      <th>75%</th>\n",
       "      <td>0.000000</td>\n",
       "      <td>1.000000</td>\n",
       "      <td>2.000000</td>\n",
       "      <td>0.000000</td>\n",
       "      <td>298.000000</td>\n",
       "    </tr>\n",
       "    <tr>\n",
       "      <th>max</th>\n",
       "      <td>1.000000</td>\n",
       "      <td>260.000000</td>\n",
       "      <td>260.000000</td>\n",
       "      <td>49.000000</td>\n",
       "      <td>2662.000000</td>\n",
       "    </tr>\n",
       "  </tbody>\n",
       "</table>\n",
       "</div>"
      ],
      "text/plain": [
       "       Метка кред дефолта   ctr_count_6m   contract_cnt  contract_ovd_cnt  \\\n",
       "count       127968.000000  127968.000000  127968.000000     127968.000000   \n",
       "mean             0.037830       1.180334       1.622484          0.270247   \n",
       "std              0.190785       3.020038       4.318072          1.279713   \n",
       "min              0.000000       0.000000       0.000000          0.000000   \n",
       "25%              0.000000       0.000000       0.000000          0.000000   \n",
       "50%              0.000000       0.000000       0.000000          0.000000   \n",
       "75%              0.000000       1.000000       2.000000          0.000000   \n",
       "max              1.000000     260.000000     260.000000         49.000000   \n",
       "\n",
       "       dsnc_ovd_pay_days  \n",
       "count       34115.000000  \n",
       "mean          229.835087  \n",
       "std           317.085769  \n",
       "min             2.000000  \n",
       "25%            29.000000  \n",
       "50%            98.000000  \n",
       "75%           298.000000  \n",
       "max          2662.000000  "
      ]
     },
     "execution_count": 15,
     "metadata": {},
     "output_type": "execute_result"
    }
   ],
   "source": [
    "target_features.describe()"
   ]
  },
  {
   "cell_type": "code",
   "execution_count": 16,
   "metadata": {},
   "outputs": [
    {
     "name": "stdout",
     "output_type": "stream",
     "text": [
      "Ограничиваем ctr_count_6m не более 12.0  при макс значении 260\n",
      "Ограничиваем contract_ovd_cnt не более 5.0  при макс значении 49\n",
      "Изменение выборки с 127968 до 125908\n"
     ]
    }
   ],
   "source": [
    "max_ctr_count_6m = target_features['ctr_count_6m'].max()\n",
    "max_contract_ovd_cnt = target_features['contract_ovd_cnt'].max()\n",
    "\n",
    "limit_ctr_count_6m = np.percentile(target_features['ctr_count_6m'], 99)\n",
    "limit_contract_ovd_cnt = np.percentile(target_features['contract_ovd_cnt'], 99)\n",
    "\n",
    "print(\"Ограничиваем ctr_count_6m не более {}  при макс значении {}\".format(limit_ctr_count_6m, max_ctr_count_6m))\n",
    "print(\"Ограничиваем contract_ovd_cnt не более {}  при макс значении {}\".format(limit_contract_ovd_cnt, max_contract_ovd_cnt))\n",
    "\n",
    "target_features_limit = target_features[(target_features['ctr_count_6m'] <= limit_ctr_count_6m) & (target_features['contract_ovd_cnt'] <= limit_contract_ovd_cnt)]\n",
    "\n",
    "print(\"Изменение выборки с {} до {}\".format(len(target_features), len(target_features_limit)))"
   ]
  },
  {
   "cell_type": "code",
   "execution_count": 17,
   "metadata": {},
   "outputs": [],
   "source": [
    "target_features_res = target_features_limit.copy()\n",
    "\n",
    "target_features_res.drop(columns='Дата принятия решения по сделке', inplace=True)\n",
    "target_features_res.rename(columns={'decision_date':'Дата принятия решения по сделке'}, inplace=True)\n",
    "target_features_res.rename(columns={'dsnc_ovd_pay_days':'day_from_last_paid_delay'}, inplace=True)\n",
    "target_features_res.rename(columns={'contract_ovd_cnt':'debt_ctr'}, inplace=True)\n",
    "target_features_res.rename(columns={'okved':'lessee_okved_1'}, inplace=True)\n",
    " \n",
    "target_features_res.to_pickle(pre+\"data/interm/target_features.pkl\", compression={'method': 'zip'})\n",
    " \n",
    "keep_col = ['PL', 'Номер сделки', 'Номер договора (кратко)', 'ИНН контрагента', 'Продукт',\n",
    "                'Дата принятия решения по сделке', \n",
    "                'Метка кред дефолта', \n",
    "                'lessee_okved_1', 'ctr_count_6m', 'debt_ctr',\t'day_from_last_paid_delay']\n",
    "\n",
    "target_features_res[keep_col].to_csv(pre+\"data/processed/target_features.csv\", index=False, sep=\";\", encoding=\"1251\", date_format='%Y.%m.%d')\n",
    "# target_features_res[keep_col].head(1)"
   ]
  },
  {
   "cell_type": "code",
   "execution_count": 18,
   "metadata": {},
   "outputs": [],
   "source": [
    "# сохраняем tmp таблицы\n",
    "if len(writer.sheets):\n",
    "    writer.save() "
   ]
  },
  {
   "cell_type": "code",
   "execution_count": null,
   "metadata": {},
   "outputs": [],
   "source": []
  }
 ],
 "metadata": {
  "interpreter": {
   "hash": "ad2bdc8ecc057115af97d19610ffacc2b4e99fae6737bb82f5d7fb13d2f2c186"
  },
  "kernelspec": {
   "display_name": "Python 3.7.13 ('base')",
   "language": "python",
   "name": "python3"
  },
  "language_info": {
   "codemirror_mode": {
    "name": "ipython",
    "version": 3
   },
   "file_extension": ".py",
   "mimetype": "text/x-python",
   "name": "python",
   "nbconvert_exporter": "python",
   "pygments_lexer": "ipython3",
   "version": "3.7.13"
  },
  "orig_nbformat": 4
 },
 "nbformat": 4,
 "nbformat_minor": 2
}
