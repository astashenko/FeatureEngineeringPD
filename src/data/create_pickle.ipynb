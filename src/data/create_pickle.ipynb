{
 "cells": [
  {
   "cell_type": "markdown",
   "metadata": {},
   "source": [
    "Формирование pkl файлов исходных (data/external) и из БД для дальнейшего использования \n",
    "\n",
    "\n",
    "Делать однократно, если ранее не были созданы pkl файлы в папке interm/external_pkl"
   ]
  },
  {
   "cell_type": "code",
   "execution_count": 1,
   "metadata": {},
   "outputs": [],
   "source": [
    "pre = '../../' # путь до главной директории проекта\n",
    "%run ../init.ipynb #подгрузить нужные библиотеки\n",
    "%run ../../params.ipynb #параметры как логин пароль к БИ, параметры расчёта ( в нашем случае их нет)"
   ]
  },
  {
   "cell_type": "markdown",
   "metadata": {},
   "source": [
    "Исходные внешние данные:\n",
    "\n",
    "dataset_local_application_inf_ssf.01.07.2022.pkl - должен быть заархивирован и сохранен в директории 'data/external/target_data.tar.gz'\n",
    "\n",
    "Поскольку dataset_local_application_inf_ssf.\\*\\*.\\*\\*.\\*\\*\\*\\*.pkl имеет в названии отчетную дату, на которую формируют эту таблицу, то во избежание изменение кода, после разархивации, файл переименовывается в target_dataset.pkl, при это отчетная дата записывается в виде столбца 'date_of_report' таблицы для отладочных целей."
   ]
  },
  {
   "cell_type": "code",
   "execution_count": 2,
   "metadata": {},
   "outputs": [
    {
     "name": "stdout",
     "output_type": "stream",
     "text": [
      "Прочитанный размер файла из target-class (252134, 94)\n"
     ]
    }
   ],
   "source": [
    "def read_target_ext():\n",
    "    \n",
    "    name = pre + 'data/external/target_data.tar.gz'\n",
    "    extract_all(name, pre +'data/interm/external_pkl')\n",
    "\n",
    "    name = pre + \"data/interm/external_pkl/dataset_local_application_inf_ssf.01.07.2022.pkl\"\n",
    "    target_data = pd.read_pickle(name)\n",
    "\n",
    "    print(\"Прочитанный размер файла из target-class {}\".format(target_data.shape))\n",
    "    \n",
    "    report_date_string = name[-14:-4] # последняя дата в выборке кредитной выборке, во фрод +12мес.\n",
    "    date_of_report = datetime.strptime(report_date_string, '%d.%m.%Y') \n",
    "    target_data['date_of_report'] = date_of_report\n",
    "    \n",
    "    try:\n",
    "        if os.path.isfile(name):\n",
    "            os.remove(name)\n",
    "    except:\n",
    "        pass\n",
    "\n",
    "    return target_data\n",
    "\n",
    "target_data = read_target_ext()\n",
    "target_data.to_pickle(pre+\"data/interm/external_pkl/target_dataset.pkl\", compression={'method':'zip'})\n",
    "# target_data.head(1)"
   ]
  },
  {
   "cell_type": "code",
   "execution_count": 3,
   "metadata": {},
   "outputs": [
    {
     "name": "stdout",
     "output_type": "stream",
     "text": [
      "Размер считанных данных mpl_app - (250698, 4)\n"
     ]
    }
   ],
   "source": [
    "def MDL_APP():\n",
    "    sql_query = \"\"\"SELECT PL,  \n",
    "                        DATE_ACTUAL, \n",
    "                        NL_NEW_PRODUCTNAME, \n",
    "                        O_NEW_TOTALFINANCINGSUM \n",
    "                    FROM ANALYST.MDL_APP_DAKSENOVA_010723\n",
    "                \"\"\"\n",
    "\n",
    "    mdl_app = read_from_oracle(sql_query, title='mpl_app')\n",
    "\n",
    "    return mdl_app\n",
    "\n",
    "\n",
    "mdl_app = MDL_APP()\n",
    "mdl_app.to_pickle(pre+\"data/interm/external_pkl/mdl_app.pkl\",\n",
    "                  compression={'method': 'zip'})\n",
    "# mdl_app.head(1)\n"
   ]
  },
  {
   "cell_type": "code",
   "execution_count": 4,
   "metadata": {},
   "outputs": [
    {
     "name": "stdout",
     "output_type": "stream",
     "text": [
      "Размер считанных данных portfolio - (268031, 10)\n"
     ]
    }
   ],
   "source": [
    "def portfolio_read():\n",
    "    sql_query = \"\"\"SELECT LP.CONTRACT_KEY, LP.CONTRACT_APP_KEY, LP.CONTRACT_NUM, LP.LEASE_DATE, LP.REHIRING_DT, LP.APP_1C_NUM,\n",
    "                        CLIENTS.INN, CLIENTS.SHORT_CLIENT_RU_NAM,  CONTRACTS.OPEN_DT, CONTRACTS.CLOSE_DT \n",
    "                    FROM\n",
    "                    (SELECT AL.APP_1C_NUM,\n",
    "                        AL.CONTRACT_NUM,\n",
    "                        AL.REHIRING_DT,\n",
    "                        AL.CONTRACT_KEY,\n",
    "                        AL.CONTRACT_APP_KEY,\n",
    "                        AL.LEASE_DATE\n",
    "                    FROM DM.AUTO_LEASING_PORTFOLIO AL\n",
    "                    INNER JOIN\n",
    "                        ( SELECT CONTRACT_KEY, CONTRACT_APP_KEY, MAX(SNAPSHOT_DT) AS SNAPSHOT_DT\n",
    "                        FROM DM.AUTO_LEASING_PORTFOLIO\n",
    "                        WHERE AUTO_LEASING_PORTFOLIO_FLG = 1\n",
    "                        AND REHIRING_DT <= &CUTOFF\n",
    "                        AND LEASE_DATE <= &CUTOFF\n",
    "                        GROUP BY CONTRACT_KEY, CONTRACT_APP_KEY\n",
    "                        ) LST\n",
    "                    ON AL.CONTRACT_KEY      = LST.CONTRACT_KEY\n",
    "                    AND AL.CONTRACT_APP_KEY = LST.CONTRACT_APP_KEY\n",
    "                    AND AL.SNAPSHOT_DT      = LST.SNAPSHOT_DT\n",
    "                    ) LP\n",
    "                    INNER JOIN\n",
    "                    (SELECT CONTRACT_KEY, CLIENT_KEY, OPEN_DT, CLOSE_DT\n",
    "                    FROM DWH.CONTRACTS\n",
    "                    WHERE VALID_TO_DTTM = TO_DATE('01.01.2400','DD.MM.YYYY')\n",
    "                    ) CONTRACTS\n",
    "                    ON CONTRACTS.CONTRACT_KEY = LP.CONTRACT_KEY\n",
    "                    LEFT JOIN\n",
    "                    (SELECT DISTINCT CLIENT_KEY, INN, DWH.CLIENTS.SHORT_CLIENT_RU_NAM, CLIENT_CD\n",
    "                    FROM DWH.CLIENTS\n",
    "                    WHERE VALID_TO_DTTM = TO_DATE('01.01.2400','DD.MM.YYYY')\n",
    "                    ) CLIENTS\n",
    "                    ON CLIENTS.CLIENT_KEY = CONTRACTS.CLIENT_KEY\n",
    "                \"\"\"\n",
    "                \n",
    "    ДатаСреза = datetime(2023, 9, 14)\n",
    "    \n",
    "    df = read_from_oracle(sql_query, title='portfolio', params={'CUTOFF':ДатаСреза})\n",
    "    \n",
    "    df['REPORT_DT'] = ДатаСреза\n",
    "    \n",
    "    for col in ['CONTRACT_APP_KEY', 'APP_1C_NUM', 'CONTRACT_KEY']:\n",
    "        df[col] = df[col].astype(str)\n",
    "    \n",
    "    for col in ['LEASE_DATE', 'CLOSE_DT', 'REHIRING_DT']:\n",
    "        df[col] = pd.to_datetime(df[col], format='%Y.%m.%d', errors='coerce')\n",
    "        \n",
    "    return df\n",
    "\n",
    "portfolio = portfolio_read()\n",
    "portfolio.to_pickle(pre+\"data/interm/external_pkl/portfolio.pkl\", compression={'method': 'zip'})\n",
    "# portfolio.head(1)\n"
   ]
  },
  {
   "cell_type": "code",
   "execution_count": 5,
   "metadata": {},
   "outputs": [
    {
     "name": "stdout",
     "output_type": "stream",
     "text": [
      "Размер считанных данных okved - (152687, 3)\n"
     ]
    }
   ],
   "source": [
    "def okved_read():\n",
    "    sql_query = \"\"\" SELECT DISTINCT INN, \n",
    "                        CLIENT_KEY,\n",
    "                        OKVED_CODE\n",
    "                    FROM DWH.CLIENTS\n",
    "                    WHERE VALID_TO_DTTM = TO_DATE('01.01.2400','DD.MM.YYYY')\n",
    "                    AND OKVED_CODE IS NOT NULL\n",
    "                    AND NVL(DWH.CLIENTS.DELETE_FLG, 0) !=1\n",
    "                \"\"\"\n",
    "                \n",
    "    df = read_from_oracle(sql_query, title='okved')\n",
    "    \n",
    "    return df\n",
    "\n",
    "okved = okved_read()\n",
    "okved.to_pickle(pre+\"data/interm/external_pkl/okved.pkl\", compression={'method': 'zip'})\n",
    "# okved.head(1)"
   ]
  },
  {
   "cell_type": "code",
   "execution_count": 6,
   "metadata": {},
   "outputs": [
    {
     "name": "stdout",
     "output_type": "stream",
     "text": [
      "Размер считанных данных keys - (392265, 4)\n"
     ]
    }
   ],
   "source": [
    "def read_keys():\n",
    "    sql_query =   \"\"\" \n",
    "                    SELECT CONTRACT_KEY,\n",
    "                            CONTRACT_NUM,\n",
    "                            CRM_CONTRACT_CD,\n",
    "                            CODE1C_CD\n",
    "                    FROM DWH.LEASING_CONTRACTS lc\n",
    "                    WHERE VALID_TO_DTTM = TO_DATE('01.01.2400', 'dd.mm.yyyy')\n",
    "                    \"\"\"\n",
    "\n",
    "    keys = read_from_oracle(sql_query, title='keys')\n",
    "    # делаем заглавными\n",
    "    keys['CRM_CONTRACT_CD']= [s.upper( ) if s is not None  else s for s in keys['CRM_CONTRACT_CD'] ]\n",
    "    return keys\n",
    "\n",
    "keys = read_keys()\n",
    "keys.to_pickle(pre+\"data/interm/external_pkl/keys.pkl\", compression={'method': 'zip'})\n",
    "\n",
    "# keys.head()"
   ]
  },
  {
   "cell_type": "code",
   "execution_count": null,
   "metadata": {},
   "outputs": [],
   "source": []
  }
 ],
 "metadata": {
  "interpreter": {
   "hash": "ad2bdc8ecc057115af97d19610ffacc2b4e99fae6737bb82f5d7fb13d2f2c186"
  },
  "kernelspec": {
   "display_name": "Python 3.7.13 ('base')",
   "language": "python",
   "name": "python3"
  },
  "language_info": {
   "codemirror_mode": {
    "name": "ipython",
    "version": 3
   },
   "file_extension": ".py",
   "mimetype": "text/x-python",
   "name": "python",
   "nbconvert_exporter": "python",
   "pygments_lexer": "ipython3",
   "version": "3.7.13"
  },
  "orig_nbformat": 4
 },
 "nbformat": 4,
 "nbformat_minor": 2
}
