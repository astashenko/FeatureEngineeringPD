{
 "cells": [
  {
   "attachments": {},
   "cell_type": "markdown",
   "metadata": {},
   "source": [
    "##### Тестирование списка договоров, которые будут учитываться при расчете фичей \n",
    "\n",
    "сравнение  \"data/external/portfolio_tsal_for_test.pkl\" - портфеля ЦАЛ (глубиной 5 лет) с \"data/interm/test/lst_contracts.pkl\" - теми договорами, которые будут учитываться на дату принятия решения"
   ]
  },
  {
   "cell_type": "code",
   "execution_count": 1,
   "metadata": {},
   "outputs": [],
   "source": [
    "pre = '../../' # путь до главной директории проекта\n",
    "%run ../../params.ipynb #параметры как логин пароль к БИ, параметры расчёта ( в нашем случае их нет)\n",
    "%run ../init.ipynb #подгрузить нужные библиотеки"
   ]
  },
  {
   "cell_type": "code",
   "execution_count": 2,
   "metadata": {},
   "outputs": [],
   "source": [
    "# сюда таблицы служебные будем кидать, для отчетов\n",
    "name = pre + \"data/interm/auxilary/test_portfolio.xlsx\"\n",
    "writer = ExcelWriter(name)"
   ]
  },
  {
   "cell_type": "code",
   "execution_count": 3,
   "metadata": {},
   "outputs": [
    {
     "name": "stdout",
     "output_type": "stream",
     "text": [
      "191677\n"
     ]
    }
   ],
   "source": [
    "name = pre + \"data/interm/test/lst_contracts.pkl\"\n",
    "lst_contracts = pd.read_pickle(name, compression={'method':'zip'})\n",
    "\n",
    "print(len(lst_contracts))\n",
    "\n",
    "# lst_contracts.head(1)"
   ]
  },
  {
   "cell_type": "code",
   "execution_count": 4,
   "metadata": {},
   "outputs": [
    {
     "name": "stdout",
     "output_type": "stream",
     "text": [
      "203571\n"
     ]
    }
   ],
   "source": [
    "name = pre + \"data/external/portfolio_tsal_for_test.pkl\"\n",
    "portfolio_tsal = pd.read_pickle(name, compression={'method':'zip'})\n",
    "\n",
    "portfolio_tsal['CONTRACT_KEY'] = portfolio_tsal['CONTRACT_KEY'].astype(str) \n",
    "\n",
    "print(len(portfolio_tsal))\n",
    "# portfolio_tsal.head(1)"
   ]
  },
  {
   "cell_type": "code",
   "execution_count": null,
   "metadata": {},
   "outputs": [],
   "source": [
    "num, duplicates = identify_duplicates(portfolio_tsal, 'CONTRACT_KEY')\n",
    "Check_dupl(num, duplicates)"
   ]
  },
  {
   "cell_type": "code",
   "execution_count": 6,
   "metadata": {},
   "outputs": [],
   "source": [
    "portfolio_tsal = portfolio_tsal.drop_duplicates(subset='CONTRACT_KEY')"
   ]
  },
  {
   "cell_type": "code",
   "execution_count": 7,
   "metadata": {},
   "outputs": [],
   "source": [
    "inn_ctr_cnt_tsal = portfolio_tsal.groupby(['NEW_INN'])['CONTRACT_NUM'].nunique().reset_index()\n",
    "# inn_ctr_cnt_tsal.head(1)"
   ]
  },
  {
   "cell_type": "code",
   "execution_count": 8,
   "metadata": {},
   "outputs": [],
   "source": [
    "df_cnt = lst_contracts.groupby(['ИНН контрагента'])['CONTRACT_NUM'].nunique().to_frame().reset_index()\n",
    "\n",
    "# df_cnt.head(1)"
   ]
  },
  {
   "cell_type": "code",
   "execution_count": 9,
   "metadata": {},
   "outputs": [
    {
     "name": "stdout",
     "output_type": "stream",
     "text": [
      "одновременно присутствуют в test и tsal 67551 строк\n"
     ]
    }
   ],
   "source": [
    "%run ../init.ipynb #подгрузить нужные библиотеки\n",
    "\n",
    "kwargs = dict( sourcesName = ['test', 'tsal'], \n",
    "               suffix = '_tsal',\n",
    "               left_on = 'ИНН контрагента', right_on = 'NEW_INN'\n",
    "             )\n",
    "\n",
    "comp =  ComparisonDataFrames(df_cnt, inn_ctr_cnt_tsal, **kwargs) \n",
    "df = comp.presentRows()  \n",
    "# df.head()"
   ]
  },
  {
   "cell_type": "code",
   "execution_count": 10,
   "metadata": {},
   "outputs": [
    {
     "name": "stdout",
     "output_type": "stream",
     "text": [
      "Проверка по столбцам CONTRACT_NUM и CONTRACT_NUM_tsal\n",
      "значения не совпадают у 12 строк из 67551\n"
     ]
    }
   ],
   "source": [
    "df = comp.check_fields('CONTRACT_NUM', 'CONTRACT_NUM')\n",
    "# df.head(1)"
   ]
  },
  {
   "cell_type": "code",
   "execution_count": null,
   "metadata": {},
   "outputs": [],
   "source": [
    "df.sort_values(by='ИНН контрагента')"
   ]
  },
  {
   "cell_type": "markdown",
   "metadata": {},
   "source": [
    "По ним не было передачи в лизинг. В ЦАЛ сделали не правильно отбор на дату лизинга"
   ]
  },
  {
   "cell_type": "markdown",
   "metadata": {},
   "source": [
    "### Заключение \n",
    "Проверка успешно прошла\n",
    "значения не совпадают у 12 строк из 67551\n",
    "связано с тем, что Отбор строк по дате лизинга в ЦАЛ производится после того как дата лизинга агрегирована на самое первое приложение, получается, что если у первого приложения не было передачи в лизинг, а у повторного есть, то невозможно определить что есть лизинг. Это необходимо править в витрине ЦАЛ"
   ]
  },
  {
   "cell_type": "code",
   "execution_count": 14,
   "metadata": {},
   "outputs": [],
   "source": [
    "# сохраняем tmp таблицы\n",
    "if len(writer.sheets):\n",
    "    writer.save() "
   ]
  }
 ],
 "metadata": {
  "interpreter": {
   "hash": "ad2bdc8ecc057115af97d19610ffacc2b4e99fae6737bb82f5d7fb13d2f2c186"
  },
  "kernelspec": {
   "display_name": "Python 3.7.13 ('base')",
   "language": "python",
   "name": "python3"
  },
  "language_info": {
   "codemirror_mode": {
    "name": "ipython",
    "version": 3
   },
   "file_extension": ".py",
   "mimetype": "text/x-python",
   "name": "python",
   "nbconvert_exporter": "python",
   "pygments_lexer": "ipython3",
   "version": "3.7.13"
  },
  "orig_nbformat": 4
 },
 "nbformat": 4,
 "nbformat_minor": 2
}
