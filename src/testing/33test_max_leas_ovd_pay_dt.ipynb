{
 "cells": [
  {
   "attachments": {},
   "cell_type": "markdown",
   "metadata": {},
   "source": [
    "##### Тестирование показателя max_leas_ovd_pay_dt - дата последней оплаченной просроченной задолженности по лизинговым платежам с ЦАЛ\n",
    "\n",
    "сравнение  \"data/external/last_overdue_dt_tsal_for_test.pkl\" - дата последней оплаченной просроченной задолженности по лизинговым платежам по договорам ЦАЛ с \"data/interm/test/leas_ovd_pay_dt.pkl\" - рассчитанные даты последней оплаченной задолженности"
   ]
  },
  {
   "cell_type": "code",
   "execution_count": 12,
   "metadata": {},
   "outputs": [],
   "source": [
    "pre = '../../' # путь до главной директории проекта\n",
    "%run ../../params.ipynb #параметры как логин пароль к БИ, параметры расчёта ( в нашем случае их нет)\n",
    "%run ../init.ipynb #подгрузить нужные библиотеки"
   ]
  },
  {
   "cell_type": "code",
   "execution_count": 13,
   "metadata": {},
   "outputs": [],
   "source": [
    "# сюда таблицы служебные будем кидать, для отчетов\n",
    "name = pre + \"data/interm/auxilary/test_dsnc_ovd_pay.xlsx\"\n",
    "writer = ExcelWriter(name)"
   ]
  },
  {
   "cell_type": "code",
   "execution_count": 14,
   "metadata": {},
   "outputs": [
    {
     "name": "stdout",
     "output_type": "stream",
     "text": [
      "167757\n"
     ]
    }
   ],
   "source": [
    "name = pre + \"data/external/last_overdue_dt_tsal_for_test.pkl\"\n",
    "last_overdue_dt_tsal = pd.read_pickle(name, compression={'method':'zip'})\n",
    "\n",
    "print(len(last_overdue_dt_tsal))\n",
    "\n",
    "num, duplicates = identify_duplicates(last_overdue_dt_tsal, 'CONTRACT_KEY')\n",
    "Check_dupl(num, duplicates)\n",
    "\n",
    "last_overdue_dt_tsal['CONTRACT_KEY'] = last_overdue_dt_tsal['CONTRACT_KEY'].astype(str)\n",
    "# last_overdue_dt_tsal.head(1)"
   ]
  },
  {
   "cell_type": "code",
   "execution_count": 15,
   "metadata": {},
   "outputs": [
    {
     "name": "stdout",
     "output_type": "stream",
     "text": [
      "108315\n"
     ]
    }
   ],
   "source": [
    "name = pre + \"data/interm/test/leas_ovd_pay_dt.pkl\"\n",
    "test_leas_ovd_pay = pd.read_pickle(name, compression={'method':'zip'})\n",
    "\n",
    "print(len(test_leas_ovd_pay))\n",
    "# test_leas_ovd_pay.head(1)"
   ]
  },
  {
   "cell_type": "code",
   "execution_count": 16,
   "metadata": {},
   "outputs": [],
   "source": [
    "%run ../init.ipynb #подгрузить нужные библиотеки\n",
    "\n",
    "kwargs = dict( sourcesName = ['tsal', 'target'], \n",
    "               suffix = '_target',\n",
    "               on = 'CONTRACT_KEY',  \n",
    "               notnull_col = ['SNAPSHOT_DT', 'decision_date'],\n",
    "               base_col = ['CONTRACT_NUM', 'CONTRACT_KEY', 'INN', 'decision_date']\n",
    "             )\n",
    "\n",
    "comp =  ComparisonDataFrames(last_overdue_dt_tsal, test_leas_ovd_pay, **kwargs)   "
   ]
  },
  {
   "cell_type": "code",
   "execution_count": 17,
   "metadata": {},
   "outputs": [
    {
     "name": "stdout",
     "output_type": "stream",
     "text": [
      "отсутствуют в tsal 6 строк\n"
     ]
    }
   ],
   "source": [
    "missed = comp.missedRows(sourcesName='tsal')"
   ]
  },
  {
   "cell_type": "code",
   "execution_count": 18,
   "metadata": {},
   "outputs": [
    {
     "name": "stdout",
     "output_type": "stream",
     "text": [
      "одновременно присутствуют в tsal и target 108309 строк\n"
     ]
    }
   ],
   "source": [
    "df = comp.presentRows()\n",
    "# df.head(1)"
   ]
  },
  {
   "cell_type": "markdown",
   "metadata": {},
   "source": [
    "полностью совпасть не сможем, так как платежи у нас после перерасчетов"
   ]
  },
  {
   "cell_type": "code",
   "execution_count": 19,
   "metadata": {},
   "outputs": [
    {
     "name": "stdout",
     "output_type": "stream",
     "text": [
      "значения совпадают во всех 108309 строках\n"
     ]
    }
   ],
   "source": [
    "df = comp.check_fields('MAX_LEAS_OVD_PAY_DT', 'MAX_LEAS_OVD_PAY_DT')\n",
    "# df.head(1)"
   ]
  },
  {
   "cell_type": "markdown",
   "metadata": {},
   "source": [
    "1с подтверждает данные посчитанные здесь а не витрине ЦАЛ"
   ]
  },
  {
   "cell_type": "code",
   "execution_count": 21,
   "metadata": {},
   "outputs": [],
   "source": [
    "l = len(test_leas_ovd_pay[test_leas_ovd_pay['max_leas_ovd_pay_dt'] > test_leas_ovd_pay['decision_date']])\n",
    "assert l == 0"
   ]
  },
  {
   "cell_type": "code",
   "execution_count": null,
   "metadata": {},
   "outputs": [],
   "source": []
  }
 ],
 "metadata": {
  "interpreter": {
   "hash": "ad2bdc8ecc057115af97d19610ffacc2b4e99fae6737bb82f5d7fb13d2f2c186"
  },
  "kernelspec": {
   "display_name": "Python 3.7.13 ('base')",
   "language": "python",
   "name": "python3"
  },
  "language_info": {
   "codemirror_mode": {
    "name": "ipython",
    "version": 3
   },
   "file_extension": ".py",
   "mimetype": "text/x-python",
   "name": "python",
   "nbconvert_exporter": "python",
   "pygments_lexer": "ipython3",
   "version": "3.7.13"
  },
  "orig_nbformat": 4
 },
 "nbformat": 4,
 "nbformat_minor": 2
}
