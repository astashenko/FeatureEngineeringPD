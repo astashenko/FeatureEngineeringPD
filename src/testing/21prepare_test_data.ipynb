{
 "cells": [
  {
   "attachments": {},
   "cell_type": "markdown",
   "metadata": {},
   "source": [
    "##### Подготовка тестовых данных для тестирования\n",
    "\n",
    "Порядок:\n",
    "\n",
    "-  Подготовка Подготовка тестового массива для сравнения рассчитанных фичей с витриной ЦАЛ \n",
    "-  Формирование и запись вспомогательной таблицы pre_contracts: \"все договоры ИНН на день принятия решения\"\n",
    "-  Расчет фичей \n",
    "-  Копирование данных в директорию \"data/interm/test\" \n"
   ]
  },
  {
   "cell_type": "code",
   "execution_count": 19,
   "metadata": {},
   "outputs": [],
   "source": [
    "pre = '../../' # путь до главной директории проекта\n",
    "%run ../../params.ipynb #параметры как логин пароль к БИ, параметры расчёта ( в нашем случае их нет)\n",
    "%run ../init.ipynb #подгрузить нужные библиотеки"
   ]
  },
  {
   "cell_type": "code",
   "execution_count": 20,
   "metadata": {},
   "outputs": [],
   "source": [
    "# сюда таблицы служебные будем кидать, для отчетов\n",
    "name = pre + \"data/interm/auxilary/test1_target_features.xlsx\"\n",
    "writer = ExcelWriter(name)"
   ]
  },
  {
   "cell_type": "code",
   "execution_count": null,
   "metadata": {},
   "outputs": [],
   "source": [
    "name = pre + \"data/interm/target_data.pkl\"\n",
    "target_data = pd.read_pickle(name, compression={'method':'zip'})\n",
    "\n",
    "print(len(target_data))\n",
    "# target_data.head(1)"
   ]
  },
  {
   "cell_type": "code",
   "execution_count": 22,
   "metadata": {},
   "outputs": [
    {
     "name": "stdout",
     "output_type": "stream",
     "text": [
      "156409\n"
     ]
    },
    {
     "data": {
      "text/html": [
       "<div>\n",
       "<style scoped>\n",
       "    .dataframe tbody tr th:only-of-type {\n",
       "        vertical-align: middle;\n",
       "    }\n",
       "\n",
       "    .dataframe tbody tr th {\n",
       "        vertical-align: top;\n",
       "    }\n",
       "\n",
       "    .dataframe thead th {\n",
       "        text-align: right;\n",
       "    }\n",
       "</style>\n",
       "<table border=\"1\" class=\"dataframe\">\n",
       "  <thead>\n",
       "    <tr style=\"text-align: right;\">\n",
       "      <th></th>\n",
       "      <th>DAILY_SNAPSHOT_DT</th>\n",
       "      <th>NEW_INN</th>\n",
       "      <th>CONTRACT_CNT</th>\n",
       "      <th>DSNC_OVD_PAY_DAYS</th>\n",
       "      <th>CONTRACT_OVD_CNT</th>\n",
       "      <th>INSERT_DT</th>\n",
       "      <th>MAX_LEAS_OVD_PAY_DT</th>\n",
       "    </tr>\n",
       "  </thead>\n",
       "  <tbody>\n",
       "    <tr>\n",
       "      <th>0</th>\n",
       "      <td>2023-07-04</td>\n",
       "      <td>2310189350</td>\n",
       "      <td>1</td>\n",
       "      <td>1408.0</td>\n",
       "      <td>1</td>\n",
       "      <td>2023-07-04 09:17:54</td>\n",
       "      <td>2019-08-26</td>\n",
       "    </tr>\n",
       "  </tbody>\n",
       "</table>\n",
       "</div>"
      ],
      "text/plain": [
       "  DAILY_SNAPSHOT_DT     NEW_INN  CONTRACT_CNT  DSNC_OVD_PAY_DAYS  \\\n",
       "0        2023-07-04  2310189350             1             1408.0   \n",
       "\n",
       "   CONTRACT_OVD_CNT           INSERT_DT MAX_LEAS_OVD_PAY_DT  \n",
       "0                 1 2023-07-04 09:17:54          2019-08-26  "
      ]
     },
     "execution_count": 22,
     "metadata": {},
     "output_type": "execute_result"
    }
   ],
   "source": [
    "name = pre + \"data/external/model_tsal_for_test.pkl\"\n",
    "model_tsal_prod = pd.read_pickle(name, compression={'method':'zip'})\n",
    "\n",
    "print(len(model_tsal_prod))\n",
    "# model_tsal_prod.head(1)"
   ]
  },
  {
   "cell_type": "code",
   "execution_count": 23,
   "metadata": {},
   "outputs": [
    {
     "name": "stdout",
     "output_type": "stream",
     "text": [
      "2023-07-04 00:00:00\n",
      "2023-07-05 00:00:00\n"
     ]
    }
   ],
   "source": [
    "print(model_tsal_prod['DAILY_SNAPSHOT_DT'].min())\n",
    "print(model_tsal_prod['DAILY_SNAPSHOT_DT'].max())"
   ]
  },
  {
   "cell_type": "code",
   "execution_count": 24,
   "metadata": {},
   "outputs": [],
   "source": [
    "# берем последний срез\n",
    "model_tsal_prod = model_tsal_prod[model_tsal_prod['DAILY_SNAPSHOT_DT']==model_tsal_prod['DAILY_SNAPSHOT_DT'].max()]\n",
    "\n",
    "num, duplicates = identify_duplicates(model_tsal_prod, 'NEW_INN')\n",
    "Check_dupl(num, duplicates)"
   ]
  },
  {
   "cell_type": "code",
   "execution_count": 26,
   "metadata": {},
   "outputs": [],
   "source": [
    "# берем последний срез\n",
    "target_features_lst = target_data.drop_duplicates(subset='ИНН контрагента', keep='last').reset_index(drop=True)\n",
    "\n",
    "num, duplicates = identify_duplicates(target_features_lst, 'ИНН контрагента')\n",
    "Check_dupl(num, duplicates)"
   ]
  },
  {
   "cell_type": "code",
   "execution_count": null,
   "metadata": {},
   "outputs": [],
   "source": [
    "target_data_test= target_features_lst.copy()\n",
    "target_data_test['Дата принятия решения по сделке'] = model_tsal_prod['DAILY_SNAPSHOT_DT'].max()\n",
    "target_data_test['decision_date'] = model_tsal_prod['DAILY_SNAPSHOT_DT'].max()\n",
    "# target_data_test.head(1)"
   ]
  },
  {
   "cell_type": "markdown",
   "metadata": {},
   "source": [
    "Записываем его, как будто принятие решения по сделкам 2023-07-05"
   ]
  },
  {
   "cell_type": "code",
   "execution_count": 28,
   "metadata": {},
   "outputs": [],
   "source": [
    "keep_columns = ['PL', 'Номер сделки', 'Номер договора (кратко)', 'ИНН контрагента', 'Продукт',\n",
    "                'Дата принятия решения по сделке', 'decision_date', \n",
    "                 'Метка кред дефолта']\n",
    "\n",
    "target_data_test[keep_columns].to_pickle(pre+\"data/interm/target_data.pkl\", compression={'method':'zip'})"
   ]
  },
  {
   "cell_type": "code",
   "execution_count": null,
   "metadata": {},
   "outputs": [],
   "source": [
    "%run ../preprocessing/contracts_of_inn.ipynb"
   ]
  },
  {
   "cell_type": "markdown",
   "metadata": {},
   "source": [
    "после этого необходимо рассчитать все фичи \n",
    "скопировать файлы в \"data/interm/test\" "
   ]
  },
  {
   "cell_type": "code",
   "execution_count": null,
   "metadata": {},
   "outputs": [],
   "source": [
    "%run ../features/11okved.ipynb\n",
    "%run ../features/12contracts.ipynb\n",
    "%run ../features/13contract_ovd.ipynb\n",
    "%run ../features/14leas_ovd_pay_dt.ipynb\n",
    "%run ../features/21features_combine.ipynb"
   ]
  },
  {
   "cell_type": "code",
   "execution_count": 31,
   "metadata": {},
   "outputs": [],
   "source": [
    "for f in ['feature_okved.pkl', 'leas_ovd_pay_dt.pkl', 'lst_contracts.pkl', 'overdue_contracts.pkl', 'target_data.pkl', 'target_features.pkl']:\n",
    "    name = pre + \"data/interm/\" + f\n",
    "    name_new = pre + \"data/interm/test/\" + f\n",
    "    \n",
    "    os.replace(name, name_new)"
   ]
  },
  {
   "cell_type": "code",
   "execution_count": 32,
   "metadata": {},
   "outputs": [],
   "source": [
    "# сохраняем tmp таблицы\n",
    "if len(writer.sheets):\n",
    "    writer.save() "
   ]
  },
  {
   "cell_type": "code",
   "execution_count": null,
   "metadata": {},
   "outputs": [],
   "source": []
  }
 ],
 "metadata": {
  "interpreter": {
   "hash": "ad2bdc8ecc057115af97d19610ffacc2b4e99fae6737bb82f5d7fb13d2f2c186"
  },
  "kernelspec": {
   "display_name": "Python 3.7.13 ('base')",
   "language": "python",
   "name": "python3"
  },
  "language_info": {
   "codemirror_mode": {
    "name": "ipython",
    "version": 3
   },
   "file_extension": ".py",
   "mimetype": "text/x-python",
   "name": "python",
   "nbconvert_exporter": "python",
   "pygments_lexer": "ipython3",
   "version": "3.7.13"
  },
  "orig_nbformat": 4
 },
 "nbformat": 4,
 "nbformat_minor": 2
}
