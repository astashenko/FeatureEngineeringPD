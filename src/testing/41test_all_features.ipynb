{
 "cells": [
  {
   "attachments": {},
   "cell_type": "markdown",
   "metadata": {},
   "source": [
    "##### Тестирование всех фичей с рассчитанными фичами в витрине ЦАЛ \n",
    "\n",
    "Перед этим необходимо подготовить тестовые данные согласно prepare_test_data.ipynb \n",
    "и сохранить их в папку data/interm/test "
   ]
  },
  {
   "cell_type": "code",
   "execution_count": 14,
   "metadata": {},
   "outputs": [],
   "source": [
    "pre = '../../' # путь до главной директории проекта\n",
    "%run ../../params.ipynb #параметры как логин пароль к БИ, параметры расчёта ( в нашем случае их нет)\n",
    "%run ../init.ipynb #подгрузить нужные библиотеки"
   ]
  },
  {
   "cell_type": "code",
   "execution_count": 15,
   "metadata": {},
   "outputs": [],
   "source": [
    "# сюда таблицы служебные будем кидать, для отчетов\n",
    "name = pre + \"data/interm/auxilary/test_features.xlsx\"\n",
    "writer = ExcelWriter(name)"
   ]
  },
  {
   "cell_type": "code",
   "execution_count": 16,
   "metadata": {},
   "outputs": [
    {
     "name": "stdout",
     "output_type": "stream",
     "text": [
      "87180\n"
     ]
    }
   ],
   "source": [
    "name = pre + \"data/interm/test/target_features.pkl\"\n",
    "target_features = pd.read_pickle(name, compression={'method':'zip'})\n",
    "\n",
    "print(len(target_features))\n",
    "# target_features.head(1)"
   ]
  },
  {
   "cell_type": "code",
   "execution_count": 17,
   "metadata": {},
   "outputs": [
    {
     "name": "stdout",
     "output_type": "stream",
     "text": [
      "156409\n"
     ]
    }
   ],
   "source": [
    "name = pre + \"data/external/model_tsal_for_test.pkl\"\n",
    "model_tsal_prod = pd.read_pickle(name, compression={'method':'zip'})\n",
    "\n",
    "print(len(model_tsal_prod))\n",
    "# model_tsal_prod.head(1)"
   ]
  },
  {
   "cell_type": "code",
   "execution_count": 18,
   "metadata": {},
   "outputs": [
    {
     "name": "stdout",
     "output_type": "stream",
     "text": [
      "2023-07-04 00:00:00\n",
      "2023-07-05 00:00:00\n"
     ]
    }
   ],
   "source": [
    "print(model_tsal_prod['DAILY_SNAPSHOT_DT'].min())\n",
    "print(model_tsal_prod['DAILY_SNAPSHOT_DT'].max())"
   ]
  },
  {
   "cell_type": "code",
   "execution_count": 19,
   "metadata": {},
   "outputs": [],
   "source": [
    "# берем последний срез\n",
    "model_tsal_prod = model_tsal_prod[model_tsal_prod['DAILY_SNAPSHOT_DT']==model_tsal_prod['DAILY_SNAPSHOT_DT'].max()]\n",
    "\n",
    "num, duplicates = identify_duplicates(model_tsal_prod, 'NEW_INN')\n",
    "Check_dupl(num, duplicates)"
   ]
  },
  {
   "cell_type": "code",
   "execution_count": 20,
   "metadata": {},
   "outputs": [],
   "source": [
    "kwargs = dict( sourcesName = ['tsal', 'target'], \n",
    "               suffix = '_target',\n",
    "               left_on = 'NEW_INN', right_on = 'ИНН контрагента', \n",
    "               notnull_col = ['DAILY_SNAPSHOT_DT', 'PL'],\n",
    "               base_col = ['NEW_INN', 'Номер договора (кратко)']\n",
    "             )\n",
    "\n",
    "comp =  ComparisonDataFrames(model_tsal_prod, target_features, **kwargs)   "
   ]
  },
  {
   "cell_type": "code",
   "execution_count": 21,
   "metadata": {},
   "outputs": [
    {
     "name": "stdout",
     "output_type": "stream",
     "text": [
      "отсутствуют в tsal 19629 строк\n"
     ]
    }
   ],
   "source": [
    "missed = comp.missedRows(sourcesName='tsal')"
   ]
  },
  {
   "cell_type": "markdown",
   "metadata": {},
   "source": [
    "отсутствие в ЦАЛ связано с тем, что были исключены крупные клиенты"
   ]
  },
  {
   "cell_type": "code",
   "execution_count": 22,
   "metadata": {},
   "outputs": [
    {
     "name": "stdout",
     "output_type": "stream",
     "text": [
      "одновременно присутствуют в tsal и target 67551 строк\n"
     ]
    }
   ],
   "source": [
    "df = comp.presentRows()\n",
    "# df.head(1)"
   ]
  },
  {
   "cell_type": "code",
   "execution_count": 23,
   "metadata": {},
   "outputs": [
    {
     "name": "stdout",
     "output_type": "stream",
     "text": [
      "значения не совпадают у 12 строк из 67551\n"
     ]
    }
   ],
   "source": [
    "df = comp.check_fields('CONTRACT_CNT', 'contract_cnt')\n",
    "# df.head(1)"
   ]
  },
  {
   "cell_type": "code",
   "execution_count": 27,
   "metadata": {},
   "outputs": [
    {
     "name": "stdout",
     "output_type": "stream",
     "text": [
      "значения не совпадают у 31 строк из 67551\n",
      "с учетом ограничения проверялось 48353 строк\n"
     ]
    }
   ],
   "source": [
    "add_condition = (comp.inner_merge['DSNC_OVD_PAY_DAYS'].notnull())\n",
    "\n",
    "df = comp.check_fields('DSNC_OVD_PAY_DAYS', 'dsnc_ovd_pay_days', add_condition = add_condition)\n",
    "# df.head()\n"
   ]
  },
  {
   "cell_type": "code",
   "execution_count": 28,
   "metadata": {},
   "outputs": [
    {
     "name": "stdout",
     "output_type": "stream",
     "text": [
      "значения не совпадают у 31 строк из 67551\n",
      "с учетом ограничения проверялось 48353 строк\n"
     ]
    }
   ],
   "source": [
    "add_condition = (comp.inner_merge['MAX_LEAS_OVD_PAY_DT'].notnull())\n",
    "\n",
    "df = comp.check_fields('MAX_LEAS_OVD_PAY_DT', 'max_leas_ovd_pay_dt', add_condition = add_condition)\n",
    "# df.head()\n"
   ]
  },
  {
   "cell_type": "code",
   "execution_count": null,
   "metadata": {},
   "outputs": [],
   "source": []
  }
 ],
 "metadata": {
  "interpreter": {
   "hash": "ad2bdc8ecc057115af97d19610ffacc2b4e99fae6737bb82f5d7fb13d2f2c186"
  },
  "kernelspec": {
   "display_name": "Python 3.7.13 ('base')",
   "language": "python",
   "name": "python3"
  },
  "language_info": {
   "codemirror_mode": {
    "name": "ipython",
    "version": 3
   },
   "file_extension": ".py",
   "mimetype": "text/x-python",
   "name": "python",
   "nbconvert_exporter": "python",
   "pygments_lexer": "ipython3",
   "version": "3.7.13"
  },
  "orig_nbformat": 4
 },
 "nbformat": 4,
 "nbformat_minor": 2
}
