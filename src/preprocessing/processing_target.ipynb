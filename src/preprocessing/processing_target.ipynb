{
 "cells": [
  {
   "attachments": {},
   "cell_type": "markdown",
   "metadata": {},
   "source": [
    "##### Подготовка данных target_class\n",
    "\n",
    "Порядок:\n",
    " \n",
    "1. Чтение данных target_class    \n",
    "2. Убрать крупных клиентов по сумме финансирования   \n",
    "3. Выбор только нужных строк, попадающих в одну из выборок   \n",
    "4. decision_date - дата принятия решения без времени\n",
    "5. Отбор только легковой и грузовой транспорт\n",
    "6. Метка агрегируется по максимальному в рамках одной сделки значению"
   ]
  },
  {
   "cell_type": "code",
   "execution_count": 1,
   "metadata": {},
   "outputs": [],
   "source": [
    "pre = '../../' # путь до главной директории проекта\n",
    "\n",
    "%run ../init.ipynb #подгрузить нужные библиотеки"
   ]
  },
  {
   "cell_type": "code",
   "execution_count": 2,
   "metadata": {},
   "outputs": [],
   "source": [
    "#  исключить крупных клиентов ( по сумма сделки финансирования) из выборки\n",
    "\n",
    "def filterMajorClients(df_target):\n",
    "    \n",
    "    df = df_target.copy()\n",
    "    \n",
    "    m = (df['DATE_ACTUAL']< '25.01.21') & ((df['NL_NEW_PRODUCTNAME']=='Express') | (df['O_NEW_TOTALFINANCINGSUM']<=10e+6))\n",
    "    df.loc[m, 'маршрутизация_по_моделям'] = True              \n",
    "    m = (df['DATE_ACTUAL'].between('25.01.21', '15.12.21')) & ((df['NL_NEW_PRODUCTNAME']=='Express') | (df['O_NEW_TOTALFINANCINGSUM']<=15e+6))\n",
    "    df.loc[m, 'маршрутизация_по_моделям'] = True\n",
    "    m = (df['DATE_ACTUAL'].between('15.12.21', '15.07.2022')) & ((df['NL_NEW_PRODUCTNAME']=='Express') | (df['O_NEW_TOTALFINANCINGSUM']<=20313824))\n",
    "    df.loc[m, 'маршрутизация_по_моделям'] = True\n",
    "    m = (df['DATE_ACTUAL'].between('15.07.22', '31.03.2023')) & ((df['NL_NEW_PRODUCTNAME']=='Express' )| (df['O_NEW_TOTALFINANCINGSUM']<=26711533))\n",
    "    df.loc[m, 'маршрутизация_по_моделям'] = True\n",
    "    m = (df['DATE_ACTUAL']>'31.03.2023') & ((df['NL_NEW_PRODUCTNAME']=='Express') | (df['O_NEW_TOTALFINANCINGSUM']<=5e+7))\n",
    "    df.loc[m, 'маршрутизация_по_моделям'] = True\n",
    "    \n",
    "    df.loc[(df['маршрутизация_по_моделям']!=True), 'Попадает в выборку'] = None\n",
    "    \n",
    "    return df"
   ]
  },
  {
   "cell_type": "code",
   "execution_count": 3,
   "metadata": {},
   "outputs": [],
   "source": [
    "def target_preprocessing(target_data):\n",
    "    target_data.rename(columns={'credit_risk':'экспертный_кред_дефолт'}, inplace=True)\n",
    "    target_data['экспертный_кред_дефолт'] = target_data['экспертный_кред_дефолт'].astype('int')\n",
    "\n",
    "    target_data['Метка кред дефолта'] = target_data['Метка кред дефолта'].combine_first(target_data['экспертный_кред_дефолт'])\n",
    "    # target_data['Метка фрод дефолта'] = target_data['combined_fraud_default']\n",
    "\n",
    "    target_data = filterMajorClients(target_data)\n",
    "    \n",
    "    m1 = (target_data['Попадает в выборку']=='обе модели')\n",
    "    target_data = target_data.loc[m1]\n",
    "\n",
    "    # без ИНН контрагента не нужно\n",
    "    mask = (target_data['ИНН контрагента'].notnull())\n",
    "    target_data = target_data[mask]\n",
    "    \n",
    "    # без даты принятия решения по сделке не нужно\n",
    "    mask = (target_data['Дата принятия решения по сделке'].notnull())\n",
    "    target_data = target_data[mask]\n",
    "\n",
    "    #  проверка что в 1 сделке только одни ИНН участвует\n",
    "    target_data['ИНН_count'] = target_data.groupby('Номер сделки')['ИНН контрагента'].transform('nunique')\n",
    "    assert len(target_data[target_data['ИНН_count']>1]) == 0\n",
    "    \n",
    "    return target_data   "
   ]
  },
  {
   "cell_type": "code",
   "execution_count": 4,
   "metadata": {},
   "outputs": [],
   "source": [
    "# сюда таблицы служебные будем кидать, для отчетов\n",
    "name = pre + \"data/interm/auxilary/processing_target.xlsx\"\n",
    "writer = ExcelWriter(name)"
   ]
  },
  {
   "cell_type": "code",
   "execution_count": 5,
   "metadata": {},
   "outputs": [
    {
     "name": "stdout",
     "output_type": "stream",
     "text": [
      "252134\n"
     ]
    }
   ],
   "source": [
    "name = pre + \"data/interm/external_pkl/target_dataset.pkl\"\n",
    "target_class = pd.read_pickle(name, compression={'method':'zip'})\n",
    "\n",
    "print(len(target_class))\n",
    "# target_class.head(1)"
   ]
  },
  {
   "cell_type": "code",
   "execution_count": 6,
   "metadata": {},
   "outputs": [
    {
     "name": "stdout",
     "output_type": "stream",
     "text": [
      "250658\n"
     ]
    }
   ],
   "source": [
    "name = pre + \"data/interm/external_pkl/mdl_app.pkl\"\n",
    "mdl_app = pd.read_pickle(name, compression={'method':'zip'})\n",
    "\n",
    "mdl_app.drop_duplicates(subset='PL', inplace=True)\n",
    "\n",
    "print(len(mdl_app))\n",
    "# mdl_app.head(1)"
   ]
  },
  {
   "cell_type": "code",
   "execution_count": 7,
   "metadata": {},
   "outputs": [],
   "source": [
    "# пример строк\n",
    "target_class.sample(100).to_excel(writer, sheet_name='target_class samples')"
   ]
  },
  {
   "cell_type": "code",
   "execution_count": 8,
   "metadata": {},
   "outputs": [],
   "source": [
    "target_class.reset_index(inplace=True)\n",
    "target_class.rename(columns = {'index':'PL'}, inplace=True)"
   ]
  },
  {
   "cell_type": "code",
   "execution_count": 9,
   "metadata": {},
   "outputs": [],
   "source": [
    "target_data = pd.merge(target_class, mdl_app, on='PL', how='left')\n",
    "\n",
    "target_data = target_preprocessing(target_data)\n",
    "target_data['decision_date'] = target_data['Дата принятия решения по сделке'].dt.normalize()\n",
    "# target_data.head(1)"
   ]
  },
  {
   "cell_type": "markdown",
   "metadata": {},
   "source": [
    "берем только легковой и грузовой транспорт"
   ]
  },
  {
   "cell_type": "code",
   "execution_count": 10,
   "metadata": {},
   "outputs": [
    {
     "name": "stdout",
     "output_type": "stream",
     "text": [
      "общий список продуктов ['Express' 'Стандарт' 'Автобусы' 'Самоходные машины' 'Грузовая техника'\n",
      " 'Такси' 'Складская техника' 'Такси+']\n"
     ]
    }
   ],
   "source": [
    "print(\"общий список продуктов {}\".format(target_data['Продукт'].unique()))\n",
    "\n",
    "valid_products = ['Express', 'Стандарт', 'Грузовая техника', 'Такси', 'Такси+']\n",
    "target_data = target_data[target_data['Продукт'].isin(valid_products)]"
   ]
  },
  {
   "cell_type": "markdown",
   "metadata": {},
   "source": [
    "метка будет агрегироваться по максимуму в рамках одной сделки при чем после того, как взяли только valid_products"
   ]
  },
  {
   "cell_type": "code",
   "execution_count": 11,
   "metadata": {},
   "outputs": [],
   "source": [
    "# берем по обращению метку максимальную\n",
    "target_data['Метка кред дефолта'] =  target_data.groupby(['Номер сделки', 'ИНН контрагента'])['Метка кред дефолта'].transform(max)\n",
    "\n",
    "# и удалим дубли по номеру сделки. Это наши рассматриваемые таблица без дублей по номерам сделок\n",
    "target_data = target_data.drop_duplicates(subset=['Номер сделки', 'ИНН контрагента']).reset_index()"
   ]
  },
  {
   "cell_type": "code",
   "execution_count": 12,
   "metadata": {},
   "outputs": [
    {
     "name": "stdout",
     "output_type": "stream",
     "text": [
      "127968\n"
     ]
    }
   ],
   "source": [
    "keep_columns = ['PL', 'Номер сделки', 'Номер договора (кратко)', 'ИНН контрагента', 'Продукт',\n",
    "                'Дата принятия решения по сделке', 'decision_date', \n",
    "                'Метка кред дефолта']\n",
    "\n",
    "target_data[keep_columns].to_pickle(pre+\"data/interm/target_data.pkl\", compression={'method':'zip'})\n",
    "print(len(target_data))\n",
    "# target_data[keep_columns].head(1)"
   ]
  },
  {
   "cell_type": "code",
   "execution_count": 13,
   "metadata": {},
   "outputs": [],
   "source": [
    "# сохраняем tmp таблицы\n",
    "if len(writer.sheets):\n",
    "    writer.save() "
   ]
  },
  {
   "cell_type": "code",
   "execution_count": null,
   "metadata": {},
   "outputs": [],
   "source": []
  }
 ],
 "metadata": {
  "interpreter": {
   "hash": "ad2bdc8ecc057115af97d19610ffacc2b4e99fae6737bb82f5d7fb13d2f2c186"
  },
  "kernelspec": {
   "display_name": "Python 3.7.13 ('base')",
   "language": "python",
   "name": "python3"
  },
  "language_info": {
   "codemirror_mode": {
    "name": "ipython",
    "version": 3
   },
   "file_extension": ".py",
   "mimetype": "text/x-python",
   "name": "python",
   "nbconvert_exporter": "python",
   "pygments_lexer": "ipython3",
   "version": "3.7.13"
  },
  "orig_nbformat": 4
 },
 "nbformat": 4,
 "nbformat_minor": 2
}
