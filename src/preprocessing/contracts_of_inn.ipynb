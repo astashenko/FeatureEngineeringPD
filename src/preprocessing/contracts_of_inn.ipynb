{
 "cells": [
  {
   "attachments": {},
   "cell_type": "markdown",
   "metadata": {},
   "source": [
    "##### Формирование и запись вспомогательной таблицы pre_contracts: \"все договоры ИНН на день принятия решения\"\n",
    "\n",
    "Определим договоры по каждому ИНН + дата принятия решения в рамках 5 лет\n",
    "\n",
    "Количество этих договоров будет фичей contract_cnt,\n",
    "список договоров будет нужен для того, чтобы посчитать была ли у них просрочка и дата последнего оплаченного платежа\n",
    "\n",
    "записываем эти договоры с датами принятия решения во вспомогательную таблицу UAKRPDB PRE_CONTRACTS"
   ]
  },
  {
   "cell_type": "code",
   "execution_count": 1,
   "metadata": {},
   "outputs": [],
   "source": [
    "pre = '../../' # путь до главной директории проекта\n",
    "\n",
    "%run ../init.ipynb #подгрузить нужные библиотеки\n",
    "%run ../../params.ipynb #параметры как логин пароль к БИ, параметры расчёта ( в нашем случае их нет)"
   ]
  },
  {
   "cell_type": "code",
   "execution_count": 2,
   "metadata": {},
   "outputs": [],
   "source": [
    "# сюда таблицы служебные будем кидать, для отчетов\n",
    "name = pre + \"data/interm/auxilary/past_contracts.xlsx\"\n",
    "writer = ExcelWriter(name)"
   ]
  },
  {
   "cell_type": "code",
   "execution_count": 3,
   "metadata": {},
   "outputs": [
    {
     "name": "stdout",
     "output_type": "stream",
     "text": [
      "127968\n"
     ]
    }
   ],
   "source": [
    "name = pre + \"data/interm/target_data.pkl\"\n",
    "target_data = pd.read_pickle(name, compression={'method':'zip'})\n",
    "\n",
    "print(len(target_data))\n",
    "# target_data.head(1)"
   ]
  },
  {
   "cell_type": "code",
   "execution_count": 4,
   "metadata": {},
   "outputs": [
    {
     "name": "stdout",
     "output_type": "stream",
     "text": [
      "268031\n"
     ]
    }
   ],
   "source": [
    "name = pre + \"data/interm/external_pkl/portfolio.pkl\"\n",
    "portfolio = pd.read_pickle(name, compression={'method':'zip'})\n",
    "\n",
    "print(len(portfolio))\n",
    "# portfolio.head(1)"
   ]
  },
  {
   "cell_type": "code",
   "execution_count": 5,
   "metadata": {},
   "outputs": [],
   "source": [
    "#  определяем все договоры, которые были начаты до даты принятия решения по сделке,\n",
    "# но закончились не ранее -5 лет от даты принятия решения\n",
    "\n",
    "portfolio['open_auxilary'] = portfolio['REHIRING_DT'].combine_first(portfolio['OPEN_DT'])\n",
    "\n",
    "merge = pd.merge(target_data, portfolio, how='inner', left_on='ИНН контрагента', right_on='INN')\n",
    "\n",
    "mask_open = (merge['Дата принятия решения по сделке']>merge['open_auxilary'])\n",
    "\n",
    "# timedelta(days=2) - для тестирования, так как этих данных еще не было на prod, в рабочей версии делать не надо \n",
    "mask_leasing = (merge['Дата принятия решения по сделке']>merge['LEASE_DATE']+timedelta(days=1))\n",
    "\n",
    "# без тех, что закончились более 5 лет назад\n",
    "mask_closed = (merge['Дата принятия решения по сделке']<=merge['CLOSE_DT']+timedelta(days=1825)) # 365*5\n",
    "\n",
    "last_contracts = merge[mask_open&mask_closed&mask_leasing].copy()\n",
    "\n",
    "# last_contracts.head(1)"
   ]
  },
  {
   "cell_type": "markdown",
   "metadata": {},
   "source": [
    "для будущих расчетов нам понадобятся связка Дата принятия решения по сделке + CONTRACT_KEY +CONTRACT_APP_KEY\n",
    "\n",
    "то есть необходимо считать был ли просрочен каждый договор CONTRACT_KEY +CONTRACT_APP_KEY на дату принятия решения по сделке"
   ]
  },
  {
   "cell_type": "code",
   "execution_count": 6,
   "metadata": {},
   "outputs": [
    {
     "name": "stdout",
     "output_type": "stream",
     "text": [
      "207598\n"
     ]
    }
   ],
   "source": [
    "columns = ['decision_date', 'CONTRACT_KEY', 'CONTRACT_NUM', 'CONTRACT_APP_KEY', 'INN']\n",
    "pre_contracts = last_contracts[columns].drop_duplicates()\n",
    "print(len(pre_contracts))\n",
    "\n",
    "# pre_contracts.head(1)"
   ]
  },
  {
   "cell_type": "code",
   "execution_count": 7,
   "metadata": {},
   "outputs": [
    {
     "data": {
      "text/plain": [
       "decision_date       datetime64[ns]\n",
       "CONTRACT_KEY                object\n",
       "CONTRACT_NUM                object\n",
       "CONTRACT_APP_KEY            object\n",
       "INN                         object\n",
       "dtype: object"
      ]
     },
     "execution_count": 7,
     "metadata": {},
     "output_type": "execute_result"
    }
   ],
   "source": [
    "pre_contracts.dtypes"
   ]
  },
  {
   "cell_type": "markdown",
   "metadata": {},
   "source": [
    "Запись во вспомогательную таблицу"
   ]
  },
  {
   "cell_type": "code",
   "execution_count": 8,
   "metadata": {},
   "outputs": [
    {
     "name": "stderr",
     "output_type": "stream",
     "text": [
      "100%|██████████| 207598/207598 [05:14<00:00, 660.74it/s]\n"
     ]
    }
   ],
   "source": [
    "cnxn_oracle = cx_Oracle.connect(obi_login, obi_pw, \"10.0.2.45:1521/UAKRPDB\", encoding=\"UTF-8\") \n",
    "    \n",
    "try:\n",
    "    cursor = cnxn_oracle.cursor()\n",
    "    # there is no drop if exists in Oracle\n",
    "    sql_query = \"select count(*) from user_tables where table_name = upper('Pre_contracts')\"\n",
    "    cursor.execute(sql_query)\n",
    "    \n",
    "    results = cursor.fetchall()\n",
    "    \n",
    "    for data in results:\n",
    "        if (data[0]==1):\n",
    "            sql_query = \"DROP TABLE Pre_contracts\"\n",
    "            cursor.execute(sql_query)\n",
    "\n",
    "    # create table \n",
    "    sql_query = \"\"\"CREATE TABLE PRE_CONTRACTS\n",
    "                    (\n",
    "                        CONTRACT_KEY     NUMBER NOT NULL,\n",
    "                        DECISION_DATE     DATE,\n",
    "                        CONTRACT_NUM     VARCHAR2(1000 BYTE),\n",
    "                        CONTRACT_APP_KEY NUMBER,\n",
    "                        INN              VARCHAR2(100 CHAR)\n",
    "                    )    \n",
    "                \"\"\"\n",
    "\n",
    "    cursor.execute(sql_query)\n",
    "    \n",
    "    # запись блоком по 1000 строк\n",
    "    rows_in_block = 0 \n",
    "    insert_row = \"\"\n",
    "    for row, val in tqdm(pre_contracts.iterrows(), total = len(pre_contracts)):\n",
    "\n",
    "        insert_row += \"\"\"INTO PRE_CONTRACTS (CONTRACT_KEY, DECISION_DATE, CONTRACT_NUM , CONTRACT_APP_KEY, INN) VALUES \n",
    "                    ({}, TO_DATE(\\'{}\\', \\'yyyy-mm-dd hh24:mi:ss\\'),  \\'{}\\',  {}, \\'{}\\') \"\"\".format(\n",
    "                        val['CONTRACT_KEY'], val['decision_date'], val['CONTRACT_NUM'], val['CONTRACT_APP_KEY'], val['INN'])\n",
    "        \n",
    "        rows_in_block += 1\n",
    "\n",
    "        if rows_in_block == 1000:\n",
    "            query = \"\"\"INSERT ALL \"\"\" + insert_row + \"SELECT * FROM dual\"\n",
    "            rows_in_block = 0\n",
    "            insert_row = \"\"\n",
    "            cursor.execute(query)\n",
    "\n",
    "    if rows_in_block>0:\n",
    "        query = \"\"\"INSERT ALL \"\"\" + insert_row + \"SELECT * FROM dual\"\n",
    "        rows_in_block = 0\n",
    "        insert_row = \"\"\n",
    "        cursor.execute(query)\n",
    "    \n",
    "    cnxn_oracle.commit()\n",
    "    \n",
    "finally:\n",
    "    \n",
    "    if cursor:\n",
    "        cursor.close()\n",
    "    if cnxn_oracle:\n",
    "        cnxn_oracle.close()"
   ]
  },
  {
   "cell_type": "code",
   "execution_count": 9,
   "metadata": {},
   "outputs": [],
   "source": [
    "# сохраняем tmp таблицы\n",
    "if len(writer.sheets):\n",
    "    writer.save() "
   ]
  }
 ],
 "metadata": {
  "interpreter": {
   "hash": "ad2bdc8ecc057115af97d19610ffacc2b4e99fae6737bb82f5d7fb13d2f2c186"
  },
  "kernelspec": {
   "display_name": "Python 3.7.13 ('base')",
   "language": "python",
   "name": "python3"
  },
  "language_info": {
   "codemirror_mode": {
    "name": "ipython",
    "version": 3
   },
   "file_extension": ".py",
   "mimetype": "text/x-python",
   "name": "python",
   "nbconvert_exporter": "python",
   "pygments_lexer": "ipython3",
   "version": "3.7.13"
  },
  "orig_nbformat": 4
 },
 "nbformat": 4,
 "nbformat_minor": 2
}
